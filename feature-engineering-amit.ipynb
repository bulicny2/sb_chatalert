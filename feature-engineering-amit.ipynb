{
 "cells": [
  {
   "cell_type": "code",
   "execution_count": 144,
   "metadata": {
    "collapsed": false
   },
   "outputs": [],
   "source": [
    "import pandas as pd\n",
    "import numpy as np\n",
    "from pprint import pprint\n",
    "from sys import argv, exit\n",
    "from datetime import datetime\n",
    "from IPython.display import display, HTML # For pretty display of DataFrames\n",
    "import time\n",
    "import pickle\n",
    "import matplotlib\n",
    "import matplotlib.pyplot as plt\n",
    "from dateutil.relativedelta import relativedelta\n",
    "import datetime\n",
    "from collections import defaultdict\n",
    "%matplotlib inline\n",
    "matplotlib.style.use('ggplot')\n",
    "import os\n",
    "from bs4 import BeautifulSoup\n",
    "import collections\n",
    "import re\n",
    "from nltk.corpus import stopwords\n",
    "all_stopwords = stopwords.words('english')\n",
    "from nltk.stem.porter import *"
   ]
  },
  {
   "cell_type": "code",
   "execution_count": 145,
   "metadata": {
    "collapsed": true
   },
   "outputs": [],
   "source": [
    "stemmer = PorterStemmer()"
   ]
  },
  {
   "cell_type": "markdown",
   "metadata": {},
   "source": [
    "## Read forum"
   ]
  },
  {
   "cell_type": "code",
   "execution_count": 2,
   "metadata": {
    "collapsed": false
   },
   "outputs": [
    {
     "data": {
      "text/html": [
       "<div>\n",
       "<table border=\"1\" class=\"dataframe\">\n",
       "  <thead>\n",
       "    <tr style=\"text-align: right;\">\n",
       "      <th></th>\n",
       "      <th>guid</th>\n",
       "      <th>creation_date</th>\n",
       "      <th>type</th>\n",
       "      <th>source</th>\n",
       "      <th>url</th>\n",
       "      <th>title</th>\n",
       "      <th>text</th>\n",
       "      <th>author</th>\n",
       "      <th>author_age</th>\n",
       "      <th>city_state</th>\n",
       "      <th>lat</th>\n",
       "      <th>lng</th>\n",
       "      <th>phone_number</th>\n",
       "      <th>post_id</th>\n",
       "      <th>timezone_label</th>\n",
       "      <th>timezone_offset</th>\n",
       "    </tr>\n",
       "  </thead>\n",
       "  <tbody>\n",
       "    <tr>\n",
       "      <th>0</th>\n",
       "      <td>4CE5A1AD-6FDC-41E1-B0E2-B58B789D7833</td>\n",
       "      <td>2014-12-17 23:35:00</td>\n",
       "      <td>forum</td>\n",
       "      <td>usasexguide</td>\n",
       "      <td>http://www.USASexGuide.info/forum/showthread.p...</td>\n",
       "      <td>NaN</td>\n",
       "      <td>Felicia Fancy Fantasy ads are here too. http: ...</td>\n",
       "      <td>AlfReady</td>\n",
       "      <td>-1</td>\n",
       "      <td>NaN</td>\n",
       "      <td>\\N</td>\n",
       "      <td>NaN</td>\n",
       "      <td>\\N</td>\n",
       "      <td>NaN</td>\n",
       "      <td>NaN</td>\n",
       "      <td>\\N</td>\n",
       "    </tr>\n",
       "    <tr>\n",
       "      <th>1</th>\n",
       "      <td>771557EF-7608-4E13-82BA-19683C1C29E9</td>\n",
       "      <td>2014-12-04 09:36:00</td>\n",
       "      <td>forum</td>\n",
       "      <td>usasexguide</td>\n",
       "      <td>http://www.USASexGuide.info/forum/showthread.p...</td>\n",
       "      <td>NaN</td>\n",
       "      <td>images misc quote_icon.png  Originally Posted ...</td>\n",
       "      <td>JaxDog</td>\n",
       "      <td>-1</td>\n",
       "      <td>NaN</td>\n",
       "      <td>\\N</td>\n",
       "      <td>NaN</td>\n",
       "      <td>2287717022</td>\n",
       "      <td>NaN</td>\n",
       "      <td>NaN</td>\n",
       "      <td>\\N</td>\n",
       "    </tr>\n",
       "    <tr>\n",
       "      <th>2</th>\n",
       "      <td>91A10AB8-65EE-41E8-B951-14D01E435DF4</td>\n",
       "      <td>2014-12-05 14:59:00</td>\n",
       "      <td>forum</td>\n",
       "      <td>usasexguide</td>\n",
       "      <td>http://www.USASexGuide.info/forum/showthread.p...</td>\n",
       "      <td>NaN</td>\n",
       "      <td>images misc quote_icon.png  Originally Posted ...</td>\n",
       "      <td>JaxDog</td>\n",
       "      <td>-1</td>\n",
       "      <td>NaN</td>\n",
       "      <td>\\N</td>\n",
       "      <td>NaN</td>\n",
       "      <td>2285209022</td>\n",
       "      <td>NaN</td>\n",
       "      <td>NaN</td>\n",
       "      <td>\\N</td>\n",
       "    </tr>\n",
       "    <tr>\n",
       "      <th>3</th>\n",
       "      <td>5B9F1A53-1FD7-4D11-A6A7-9CC6D1B8A26F</td>\n",
       "      <td>2014-12-15 23:40:00</td>\n",
       "      <td>forum</td>\n",
       "      <td>usasexguide</td>\n",
       "      <td>http://www.USASexGuide.info/forum/showthread.p...</td>\n",
       "      <td>NaN</td>\n",
       "      <td>Originally Posted by  TallBear [View Original ...</td>\n",
       "      <td>SurfLax</td>\n",
       "      <td>-1</td>\n",
       "      <td>NaN</td>\n",
       "      <td>\\N</td>\n",
       "      <td>NaN</td>\n",
       "      <td>\\N</td>\n",
       "      <td>NaN</td>\n",
       "      <td>NaN</td>\n",
       "      <td>\\N</td>\n",
       "    </tr>\n",
       "    <tr>\n",
       "      <th>4</th>\n",
       "      <td>BCF62F70-4825-4289-9346-5A99AD70AF2C</td>\n",
       "      <td>2014-12-11 00:16:00</td>\n",
       "      <td>forum</td>\n",
       "      <td>usasexguide</td>\n",
       "      <td>http://www.USASexGuide.info/forum/showthread.p...</td>\n",
       "      <td>NaN</td>\n",
       "      <td>images misc quote_icon.png  Originally Posted ...</td>\n",
       "      <td>Darth Vader1</td>\n",
       "      <td>-1</td>\n",
       "      <td>NaN</td>\n",
       "      <td>\\N</td>\n",
       "      <td>NaN</td>\n",
       "      <td>2293109022</td>\n",
       "      <td>NaN</td>\n",
       "      <td>NaN</td>\n",
       "      <td>\\N</td>\n",
       "    </tr>\n",
       "  </tbody>\n",
       "</table>\n",
       "</div>"
      ],
      "text/plain": [
       "                                   guid        creation_date   type  \\\n",
       "0  4CE5A1AD-6FDC-41E1-B0E2-B58B789D7833  2014-12-17 23:35:00  forum   \n",
       "1  771557EF-7608-4E13-82BA-19683C1C29E9  2014-12-04 09:36:00  forum   \n",
       "2  91A10AB8-65EE-41E8-B951-14D01E435DF4  2014-12-05 14:59:00  forum   \n",
       "3  5B9F1A53-1FD7-4D11-A6A7-9CC6D1B8A26F  2014-12-15 23:40:00  forum   \n",
       "4  BCF62F70-4825-4289-9346-5A99AD70AF2C  2014-12-11 00:16:00  forum   \n",
       "\n",
       "        source                                                url  title  \\\n",
       "0  usasexguide  http://www.USASexGuide.info/forum/showthread.p...    NaN   \n",
       "1  usasexguide  http://www.USASexGuide.info/forum/showthread.p...    NaN   \n",
       "2  usasexguide  http://www.USASexGuide.info/forum/showthread.p...    NaN   \n",
       "3  usasexguide  http://www.USASexGuide.info/forum/showthread.p...    NaN   \n",
       "4  usasexguide  http://www.USASexGuide.info/forum/showthread.p...    NaN   \n",
       "\n",
       "                                                text        author  \\\n",
       "0  Felicia Fancy Fantasy ads are here too. http: ...      AlfReady   \n",
       "1  images misc quote_icon.png  Originally Posted ...        JaxDog   \n",
       "2  images misc quote_icon.png  Originally Posted ...        JaxDog   \n",
       "3  Originally Posted by  TallBear [View Original ...       SurfLax   \n",
       "4  images misc quote_icon.png  Originally Posted ...  Darth Vader1   \n",
       "\n",
       "   author_age  city_state lat  lng phone_number  post_id  timezone_label  \\\n",
       "0          -1         NaN  \\N  NaN           \\N      NaN             NaN   \n",
       "1          -1         NaN  \\N  NaN   2287717022      NaN             NaN   \n",
       "2          -1         NaN  \\N  NaN   2285209022      NaN             NaN   \n",
       "3          -1         NaN  \\N  NaN           \\N      NaN             NaN   \n",
       "4          -1         NaN  \\N  NaN   2293109022      NaN             NaN   \n",
       "\n",
       "  timezone_offset  \n",
       "0              \\N  \n",
       "1              \\N  \n",
       "2              \\N  \n",
       "3              \\N  \n",
       "4              \\N  "
      ]
     },
     "execution_count": 2,
     "metadata": {},
     "output_type": "execute_result"
    }
   ],
   "source": [
    "df = pd.read_csv('/Users/amitshavit/Desktop/all_forums_repaired_pg.csv')\n",
    "df.head()"
   ]
  },
  {
   "cell_type": "code",
   "execution_count": 215,
   "metadata": {
    "collapsed": false
   },
   "outputs": [],
   "source": [
    "pattern = re.compile(r'\\b(raid|seiz|arrest)(e|ed|s|ing)?\\b|busted|\\bsting|shut.{1,10}down|leo|uncle|\\ble\\b|avoid|police|sheriff|beware', re.IGNORECASE)\n",
    "# pattern = re.compile(r'raid|seize|bust|arrest', re.IGNORECASE)\n",
    "# pattern = re.compile(r'raid', re.IGNORECASE)\n",
    "\n",
    "def func(x):\n",
    "    m = pattern.findall(x)\n",
    "    \n",
    "    if m:\n",
    "        return 1\n",
    "    else:\n",
    "        return 0\n",
    "    \n",
    "df['containsAlertWords'] = df.text.apply(lambda x:  func(x) )"
   ]
  },
  {
   "cell_type": "code",
   "execution_count": 255,
   "metadata": {
    "collapsed": true
   },
   "outputs": [],
   "source": [
    "df['textLength'] = df.text.apply(lambda x: len(x.strip()))"
   ]
  },
  {
   "cell_type": "code",
   "execution_count": 256,
   "metadata": {
    "collapsed": false
   },
   "outputs": [
    {
     "data": {
      "text/plain": [
       "(array([ 2143.,  2129.,  1152.,   530.]),\n",
       " array([   0,  500, 1000, 1500, 2000]),\n",
       " <a list of 4 Patch objects>)"
      ]
     },
     "execution_count": 256,
     "metadata": {},
     "output_type": "execute_result"
    },
    {
     "data": {
      "image/png": "[encoded data removed]",
      "text/plain": [
       "<matplotlib.figure.Figure at 0x132fa2e90>"
      ]
     },
     "metadata": {},
     "output_type": "display_data"
    }
   ],
   "source": [
    "plt.hist(list(df[df['containsAlertWords'] == 1].textLength), bins=[0,500,1000,1500,2000])"
   ]
  },
  {
   "cell_type": "code",
   "execution_count": 216,
   "metadata": {
    "collapsed": false
   },
   "outputs": [
    {
     "data": {
      "text/plain": [
       "6750"
      ]
     },
     "execution_count": 216,
     "metadata": {},
     "output_type": "execute_result"
    }
   ],
   "source": [
    "len(df[df['containsAlertWords'] == 1])"
   ]
  },
  {
   "cell_type": "code",
   "execution_count": 260,
   "metadata": {
    "collapsed": false
   },
   "outputs": [],
   "source": [
    "containsKeyWordsdf = df[(df['containsAlertWords'] == 1) & (df['textLength'] < 2000)]"
   ]
  },
  {
   "cell_type": "code",
   "execution_count": 261,
   "metadata": {
    "collapsed": false
   },
   "outputs": [],
   "source": [
    "containsKeyWordsdf.sample(500).to_csv('/Users/amitshavit/Desktop/me.csv', header=False)"
   ]
  },
  {
   "cell_type": "code",
   "execution_count": 226,
   "metadata": {
    "collapsed": false
   },
   "outputs": [
    {
     "name": "stdout",
     "output_type": "stream",
     "text": [
      "1412\n"
     ]
    }
   ],
   "source": [
    "count =0\n",
    "for val in containsKeyWordsdf.text:\n",
    "    if 'backpage' in val:\n",
    "        count += 1\n",
    "        \n",
    "print count"
   ]
  },
  {
   "cell_type": "code",
   "execution_count": 228,
   "metadata": {
    "collapsed": false
   },
   "outputs": [
    {
     "name": "stdout",
     "output_type": "stream",
     "text": [
      "20436\n"
     ]
    }
   ],
   "source": [
    "postsWithBackpage = {}\n",
    "\n",
    "count = 0\n",
    "for idx, val in enumerate(df.text):\n",
    "    if 'backpage' in val:\n",
    "        count += 1\n",
    "        \n",
    "        postsWithBackpage[count] = (idx, val)\n",
    "        \n",
    "print count"
   ]
  },
  {
   "cell_type": "code",
   "execution_count": 266,
   "metadata": {
    "collapsed": false
   },
   "outputs": [],
   "source": [
    "link = 'http://usasexguide.info/forum/showthread.php?7357-BackPage-Advertiser-Reviews'\n",
    "import urllib2\n",
    "response = urllib2.urlopen(link)\n",
    "html = response.read()\n",
    "\n",
    "from bs4 import BeautifulSoup\n",
    "soup = BeautifulSoup(html, 'html.parser')"
   ]
  },
  {
   "cell_type": "code",
   "execution_count": 353,
   "metadata": {
    "collapsed": true
   },
   "outputs": [],
   "source": [
    "from bs4 import BeautifulSoup    \n",
    "import urllib2"
   ]
  },
  {
   "cell_type": "code",
   "execution_count": 355,
   "metadata": {
    "collapsed": false
   },
   "outputs": [],
   "source": [
    "def parseCityState(url):\n",
    "    \"\"\"Parse the city and state from sexguide info page\"\"\"\n",
    "    \n",
    "    response = urllib2.urlopen(url)\n",
    "    html = response.read()\n",
    "\n",
    "    soup = BeautifulSoup(html, 'html.parser')\n",
    "    \n",
    "    printState = False\n",
    "    printCity = False\n",
    "    for div in soup.findAll('div', { \"class\" : \"breadcrumb\" }):\n",
    "        for li in div.findAll('li'):\n",
    "\n",
    "            if printState == True:\n",
    "\n",
    "                state = li.get_text()\n",
    "\n",
    "                printCity = True\n",
    "                printState = False\n",
    "                continue\n",
    "\n",
    "\n",
    "            if printCity == True:\n",
    "                city = li.get_text()\n",
    "                break\n",
    "\n",
    "            if 'States' in li.get_text():\n",
    "                printState = True\n",
    "    \n",
    "        break\n",
    "    \n",
    "    if city == '':\n",
    "        city = '-1'\n",
    "    if state == '':\n",
    "        state = '-1'\n",
    "        \n",
    "    return city, state"
   ]
  },
  {
   "cell_type": "code",
   "execution_count": 356,
   "metadata": {
    "collapsed": false
   },
   "outputs": [
    {
     "data": {
      "text/plain": [
       "(2014, 16)"
      ]
     },
     "execution_count": 356,
     "metadata": {},
     "output_type": "execute_result"
    }
   ],
   "source": [
    "new_df = pd.read_csv('/Users/amitshavit/Desktop/le-records-by-keyword.csv')\n",
    "new_df.shape"
   ]
  },
  {
   "cell_type": "code",
   "execution_count": 357,
   "metadata": {
    "collapsed": false,
    "scrolled": true
   },
   "outputs": [
    {
     "name": "stdout",
     "output_type": "stream",
     "text": [
      "http://www.USASexGuide.info/forum/showthread.php?9376-BackPage-Advertiser-Reviews&p=2387327&viewfull=1#post2387327 Racine Wisconsin\n",
      "http://www.USASexGuide.info/forum/showthread.php?7890-BackPage-Advertiser-Reviews&p=2401713&viewfull=1#post2401713 Louisville Kentucky\n",
      "http://www.USASexGuide.info/forum/showthread.php?3998-General-Reports&p=2414030&viewfull=1#post2414030 Toledo Ohio\n",
      "http://www.USASexGuide.info/forum/showthread.php?9626-Rants-Raves-and-Opinions-AKA-quot-The-Octagon-quot&p=2388944&viewfull=1#post2388944 Cincinnati Ohio\n",
      "http://www.USASexGuide.info/forum/showthread.php?7712-BackPage-Advertiser-Reviews&p=2394284&viewfull=1#post2394284 Waukegan/Gurnee Illinois\n",
      "http://www.USASexGuide.info/forum/showthread.php?4192-Massage-Parlor-Reports&p=2398015&viewfull=1#post2398015 Tucson Arizona\n",
      "http://www.USASexGuide.info/forum/showthread.php?6889-BackPage-Advertiser-Reviews&p=2396577&viewfull=1#post2396577 Tucson Arizona\n",
      "http://www.USASexGuide.info/forum/showthread.php?9626-Rants-Raves-and-Opinions-AKA-quot-The-Octagon-quot&p=2416274&viewfull=1#post2416274 Cincinnati Ohio\n",
      "http://www.USASexGuide.info/forum/showthread.php?4884-Strip-Club-Reports&p=2392657&viewfull=1#post2392657 Phoenix Arizona\n",
      "http://www.USASexGuide.info/forum/showthread.php?7349-BackPage-Advertiser-Reviews&p=2388606&viewfull=1#post2388606 Gainesville Florida\n",
      "http://www.USASexGuide.info/forum/showthread.php?3735-Streetwalker-Reports&p=2383117&viewfull=1#post2383117 Baltimore Maryland\n",
      "http://www.USASexGuide.info/forum/showthread.php?2558-Pine&p=2409994&viewfull=1#post2409994 Waukegan/Gurnee Illinois\n",
      "http://www.USASexGuide.info/forum/showthread.php?6889-BackPage-Advertiser-Reviews&p=2396994&viewfull=1#post2396994 Tucson Arizona\n",
      "http://www.USASexGuide.info/forum/showthread.php?3918-Streetwalker-Reports&p=2410283&viewfull=1#post2410283 Orlando/Central Florida Florida\n",
      "http://www.USASexGuide.info/forum/showthread.php?12221-The-Rat-Trap&p=2388655&viewfull=1#post2388655 Orlando/Central Florida Florida\n",
      "http://www.USASexGuide.info/forum/showthread.php?6805-BackPage-Advertiser-Reviews&p=2306911&viewfull=1#post2306911 Huntsville Alabama\n",
      "http://www.USASexGuide.info/forum/showthread.php?7319-BackPage-Advertiser-Reviews&p=2389062&viewfull=1#post2389062 Daytona Beach Florida\n",
      "http://www.USASexGuide.info/forum/showthread.php?7892-Escort-Reports&p=2417597&viewfull=1#post2417597 Louisville Kentucky\n",
      "http://www.USASexGuide.info/forum/showthread.php?3559-Strip-Club-Reports&p=2411449&viewfull=1#post2411449 Providence Rhode Island\n",
      "http://www.USASexGuide.info/forum/showthread.php?5739-Streetwalker-Reports&p=2390805&viewfull=1#post2390805 Los Angeles California\n",
      "http://www.USASexGuide.info/forum/showthread.php?9626-Rants-Raves-and-Opinions-AKA-quot-The-Octagon-quot&p=2415097&viewfull=1#post2415097 Cincinnati Ohio\n",
      "http://www.USASexGuide.info/forum/showthread.php?6748-Streetwalker-Reports&p=2419492&viewfull=1#post2419492 Brevard County Florida\n",
      "http://www.USASexGuide.info/forum/showthread.php?4192-Massage-Parlor-Reports&p=2391093&viewfull=1#post2391093 Tucson Arizona\n",
      "http://www.USASexGuide.info/forum/showthread.php?3768-Massage-Parlor-Reports&p=2383295&viewfull=1#post2383295 Las Vegas Nevada\n",
      "http://www.USASexGuide.info/forum/showthread.php?7597-BackPage-Advertiser-Reviews&p=2392453&viewfull=1#post2392453 Chicago Illinois\n",
      "http://www.USASexGuide.info/forum/showthread.php?6805-BackPage-Advertiser-Reviews&p=2306911&viewfull=1#post2306911 Huntsville Alabama\n",
      "http://www.USASexGuide.info/forum/showthread.php?4192-Massage-Parlor-Reports&p=2391153&viewfull=1#post2391153 Tucson Arizona\n",
      "http://www.USASexGuide.info/forum/showthread.php?7319-BackPage-Advertiser-Reviews&p=2389062&viewfull=1#post2389062 Daytona Beach Florida\n",
      "http://www.USASexGuide.info/forum/showthread.php?8904-Craigslist-Advertiser-Reviews&p=2401757&viewfull=1#post2401757 Providence Rhode Island\n",
      "http://www.USASexGuide.info/forum/showthread.php?3993-General-Reports&p=2403068&viewfull=1#post2403068 Dayton Ohio\n",
      "http://www.USASexGuide.info/forum/showthread.php?3977-General-Reports&p=2403799&viewfull=1#post2403799 Cincinnati Ohio\n",
      "http://www.USASexGuide.info/forum/showthread.php?3993-General-Reports&p=2403907&viewfull=1#post2403907 Dayton Ohio\n",
      "http://www.USASexGuide.info/forum/showthread.php?7881-BackPage-Advertiser-Reviews&p=2392733&viewfull=1#post2392733 Lexington & I-75 Kentucky\n",
      "http://www.USASexGuide.info/forum/showthread.php?8619-BackPage-Advertiser-Reviews&p=2417212&viewfull=1#post2417212 Greensboro, NC North Carolina\n",
      "http://www.USASexGuide.info/forum/showthread.php?4244-Streetwalker-Reports&p=2418081&viewfull=1#post2418081 Saint Louis Missouri\n",
      "http://www.USASexGuide.info/forum/showthread.php?3735-Streetwalker-Reports&p=2403446&viewfull=1#post2403446 Baltimore Maryland\n",
      "http://www.USASexGuide.info/forum/showthread.php?3450-Massage-Parlor-Reports&p=2411688&viewfull=1#post2411688 Orange County California\n",
      "http://www.USASexGuide.info/forum/showthread.php?8627-Backpage-Advertiser-Reviews&p=2419039&viewfull=1#post2419039 Raleigh North Carolina\n",
      "http://www.USASexGuide.info/forum/showthread.php?5365-Massage-Parlor-Reports&p=2388245&viewfull=1#post2388245 Charlotte North Carolina\n",
      "http://www.USASexGuide.info/forum/showthread.php?13396-Tips-Tricks-Arguing-and-Bullshit&p=2412011&viewfull=1#post2412011 Columbus Ohio\n",
      "http://www.USASexGuide.info/forum/showthread.php?9626-Rants-Raves-and-Opinions-AKA-quot-The-Octagon-quot&p=2412055&viewfull=1#post2412055 Cincinnati Ohio\n",
      "http://www.USASexGuide.info/forum/showthread.php?7316-Streetwalker-Reports&p=2410279&viewfull=1#post2410279 Ft. Lauderdale/Broward County Florida\n",
      "http://www.USASexGuide.info/forum/showthread.php?3406-General-Reports&p=2388356&viewfull=1#post2388356 Phoenix Arizona\n",
      "http://www.USASexGuide.info/forum/showthread.php?3735-Streetwalker-Reports&p=2403446&viewfull=1#post2403446 Baltimore Maryland\n",
      "http://www.USASexGuide.info/forum/showthread.php?7970-BackPage-Advertiser-Reviews&p=2395568&viewfull=1#post2395568 Baltimore Maryland\n",
      "http://www.USASexGuide.info/forum/showthread.php?3559-Strip-Club-Reports&p=2411107&viewfull=1#post2411107 Providence Rhode Island\n",
      "http://www.USASexGuide.info/forum/showthread.php?9229-BackPage-Advertiser-Reviews&p=2410108&viewfull=1#post2410108 Richmond Virginia\n",
      "http://www.USASexGuide.info/forum/showthread.php?3924-Streetwalker-Reports&p=2394150&viewfull=1#post2394150 Tampa Florida\n",
      "http://www.USASexGuide.info/forum/showthread.php?8148-BackPage-Advertiser-Reviews&p=2391948&viewfull=1#post2391948 Detroit Michigan\n",
      "http://www.USASexGuide.info/forum/showthread.php?6805-BackPage-Advertiser-Reviews&p=2414363&viewfull=1#post2414363 Huntsville Alabama\n",
      "http://www.USASexGuide.info/forum/showthread.php?7208-Massage-Parlor-Reports&p=2412617&viewfull=1#post2412617 Hartford Connecticut\n",
      "http://www.USASexGuide.info/forum/showthread.php?8903-BackPage-Advertiser-Reviews&p=2401629&viewfull=1#post2401629 Providence Rhode Island\n",
      "http://www.USASexGuide.info/forum/showthread.php?3979-Streetwalker-Reports&p=2414867&viewfull=1#post2414867 Cincinnati Ohio\n",
      "http://www.USASexGuide.info/forum/showthread.php?5656-Massage-Parlor-Reports&p=2409790&viewfull=1#post2409790 Houston Texas\n",
      "http://www.USASexGuide.info/forum/showthread.php?13829-Like-Beef-Lolo&p=2404620&viewfull=1#post2404620 Honolulu Hawaii\n",
      "http://www.USASexGuide.info/forum/showthread.php?11470-USA-Adult-Classified-Advertiser-Reviews&p=2415092&viewfull=1#post2415092 Cincinnati Ohio\n",
      "http://www.USASexGuide.info/forum/showthread.php?8903-BackPage-Advertiser-Reviews&p=2403094&viewfull=1#post2403094 Providence Rhode Island\n",
      "http://www.USASexGuide.info/forum/showthread.php?3987-BackPage-Advertiser-Reviews&p=2387486&viewfull=1#post2387486 Columbus Ohio\n",
      "http://www.USASexGuide.info/forum/showthread.php?7866-BackPage-Advertiser-Reviews&p=2410179&viewfull=1#post2410179 Wichita Kansas\n",
      "http://www.USASexGuide.info/forum/showthread.php?4038-Massage-Parlor-Reports&p=2406593&viewfull=1#post2406593 Indianapolis Indiana\n",
      "http://www.USASexGuide.info/forum/showthread.php?8148-BackPage-Advertiser-Reviews&p=2251462&viewfull=1#post2251462 Detroit Michigan\n",
      "http://www.USASexGuide.info/forum/showthread.php?9626-Rants-Raves-and-Opinions-AKA-quot-The-Octagon-quot&p=2412055&viewfull=1#post2412055 Cincinnati Ohio\n",
      "http://www.USASexGuide.info/forum/showthread.php?6789-Massage-Parlor-Reports&p=2393029&viewfull=1#post2393029 Birmingham Alabama\n",
      "http://www.USASexGuide.info/forum/showthread.php?8903-BackPage-Advertiser-Reviews&p=2401634&viewfull=1#post2401634 Providence Rhode Island\n",
      "http://www.USASexGuide.info/forum/showthread.php?7373-Streetwalker-Reports&p=2417642&viewfull=1#post2417642 Lake Worth Florida\n",
      "http://www.USASexGuide.info/forum/showthread.php?7890-BackPage-Advertiser-Reviews&p=2401713&viewfull=1#post2401713 Louisville Kentucky\n",
      "http://www.USASexGuide.info/forum/showthread.php?7597-BackPage-Advertiser-Reviews&p=2403082&viewfull=1#post2403082 Chicago Illinois\n",
      "http://www.USASexGuide.info/forum/showthread.php?5226-Streetwalker-Reports&p=2346169&viewfull=1#post2346169 Chicago Illinois\n",
      "http://www.USASexGuide.info/forum/showthread.php?3450-Massage-Parlor-Reports&p=2411688&viewfull=1#post2411688 Orange County California\n",
      "http://www.USASexGuide.info/forum/showthread.php?7598-Craigslist-Advertiser-Reviews&p=2418353&viewfull=1#post2418353 Chicago Illinois\n",
      "http://www.USASexGuide.info/forum/showthread.php?3958-Massage-Parlor-Reports&p=2415873&viewfull=1#post2415873 Northern Virginia Virginia\n",
      "http://www.USASexGuide.info/forum/showthread.php?9368-BackPage-Advertiser-Reviews&p=2391726&viewfull=1#post2391726 Milwaukee Wisconsin\n",
      "http://www.USASexGuide.info/forum/showthread.php?6789-Massage-Parlor-Reports&p=2392684&viewfull=1#post2392684 Birmingham Alabama\n",
      "http://www.USASexGuide.info/forum/showthread.php?4019-General-Reports&p=2399906&viewfull=1#post2399906 Ft Wayne Indiana\n",
      "http://www.USASexGuide.info/forum/showthread.php?7597-BackPage-Advertiser-Reviews&p=2414476&viewfull=1#post2414476 Chicago Illinois\n",
      "http://www.USASexGuide.info/forum/showthread.php?11153-Bareback-Beauties&p=2390428&viewfull=1#post2390428 Los Angeles California\n",
      "http://www.USASexGuide.info/forum/showthread.php?8903-BackPage-Advertiser-Reviews&p=2404271&viewfull=1#post2404271 Providence Rhode Island\n",
      "http://www.USASexGuide.info/forum/showthread.php?11289-Mongers-ISO&p=2410563&viewfull=1#post2410563 Cincinnati Ohio\n",
      "http://www.USASexGuide.info/forum/showthread.php?7866-BackPage-Advertiser-Reviews&p=2410223&viewfull=1#post2410223 Wichita Kansas\n",
      "http://www.USASexGuide.info/forum/showthread.php?3683-General-Reports&p=2401207&viewfull=1#post2401207 Myrtle Beach South Carolina\n",
      "http://www.USASexGuide.info/forum/showthread.php?11262-Tips-Tricks-Arguing-and-BS&p=2406626&viewfull=1#post2406626 Chattanooga Tennessee\n",
      "http://www.USASexGuide.info/forum/showthread.php?7759-BackPage-Advertiser-Reviews&p=2406191&viewfull=1#post2406191 South Bend Indiana\n",
      "http://www.USASexGuide.info/forum/showthread.php?10689-Backpage-Advertiser-Reviews&p=2401315&viewfull=1#post2401315 Atlanta Georgia\n",
      "http://www.USASexGuide.info/forum/showthread.php?3735-Streetwalker-Reports&p=2254948&viewfull=1#post2254948 Baltimore Maryland\n",
      "http://www.USASexGuide.info/forum/showthread.php?3987-BackPage-Advertiser-Reviews&p=2388171&viewfull=1#post2388171 Columbus Ohio\n",
      "http://www.USASexGuide.info/forum/showthread.php?7316-Streetwalker-Reports&p=2410279&viewfull=1#post2410279 Ft. Lauderdale/Broward County Florida\n",
      "http://www.USASexGuide.info/forum/showthread.php?8904-Craigslist-Advertiser-Reviews&p=2401757&viewfull=1#post2401757 Providence Rhode Island\n",
      "http://www.USASexGuide.info/forum/showthread.php?3958-Massage-Parlor-Reports&p=2415873&viewfull=1#post2415873 Northern Virginia Virginia\n",
      "http://www.USASexGuide.info/forum/showthread.php?4213-Streetwalker-Reports&p=2402950&viewfull=1#post2402950 Fort Worth Texas\n",
      "http://www.USASexGuide.info/forum/showthread.php?3406-General-Reports&p=2396601&viewfull=1#post2396601 Phoenix Arizona\n",
      "http://www.USASexGuide.info/forum/showthread.php?9371-Massage-Parlor-Reports&p=2408668&viewfull=1#post2408668 Milwaukee Wisconsin\n",
      "http://www.USASexGuide.info/forum/showthread.php?5739-Streetwalker-Reports&p=2391406&viewfull=1#post2391406 Los Angeles California\n",
      "http://www.USASexGuide.info/forum/showthread.php?4038-Massage-Parlor-Reports&p=2400652&viewfull=1#post2400652 Indianapolis Indiana\n",
      "http://www.USASexGuide.info/forum/showthread.php?8903-BackPage-Advertiser-Reviews&p=2401629&viewfull=1#post2401629 Providence Rhode Island\n",
      "http://www.USASexGuide.info/forum/showthread.php?9746-quot-Sugarbabies-quot-quot-Arrangements-quot-Amateurs-or-Not&p=2408624&viewfull=1#post2408624 Richmond Virginia\n",
      "http://www.USASexGuide.info/forum/showthread.php?7759-BackPage-Advertiser-Reviews&p=2406345&viewfull=1#post2406345 South Bend Indiana\n",
      "http://www.USASexGuide.info/forum/showthread.php?2880-Massage-Parlor-Reports&p=2403001&viewfull=1#post2403001 Chicago Illinois\n",
      "http://www.USASexGuide.info/forum/showthread.php?6789-Massage-Parlor-Reports&p=2392684&viewfull=1#post2392684 Birmingham Alabama\n",
      "http://www.USASexGuide.info/forum/showthread.php?7357-Backpage-Advertiser-Reviews&p=2394492&viewfull=1#post2394492 Jacksonville Florida\n",
      "http://www.USASexGuide.info/forum/showthread.php?8903-BackPage-Advertiser-Reviews&p=2401883&viewfull=1#post2401883 Providence Rhode Island\n",
      "http://www.USASexGuide.info/forum/showthread.php?7357-Backpage-Advertiser-Reviews&p=2240305&viewfull=1#post2240305 Jacksonville Florida\n",
      "http://www.USASexGuide.info/forum/showthread.php?8942-BackPage-Advertiser-Reviews&p=2255500&viewfull=1#post2255500 Greenville South Carolina\n",
      "http://www.USASexGuide.info/forum/showthread.php?3735-Streetwalker-Reports&p=2246729&viewfull=1#post2246729 Baltimore Maryland\n",
      "http://www.USASexGuide.info/forum/showthread.php?6510-Escort-Classified-Ads-Member-Discussions&p=2240436&viewfull=1#post2240436 Knoxville Tennessee\n",
      "http://www.USASexGuide.info/forum/showthread.php?5226-Streetwalker-Reports&p=2246540&viewfull=1#post2246540 Chicago Illinois\n",
      "http://www.USASexGuide.info/forum/showthread.php?3735-Streetwalker-Reports&p=2248487&viewfull=1#post2248487 Baltimore Maryland\n",
      "http://www.USASexGuide.info/forum/showthread.php?7881-BackPage-Advertiser-Reviews&p=2241321&viewfull=1#post2241321 Lexington & I-75 Kentucky\n",
      "http://www.USASexGuide.info/forum/showthread.php?4162-Escort-Reports&p=2245221&viewfull=1#post2245221 Memphis Tennessee\n",
      "http://www.USASexGuide.info/forum/showthread.php?3918-Streetwalker-Reports&p=2234072&viewfull=1#post2234072 Orlando/Central Florida Florida\n",
      "http://www.USASexGuide.info/forum/showthread.php?6789-Massage-Parlor-Reports&p=2256823&viewfull=1#post2256823 Birmingham Alabama\n",
      "http://www.USASexGuide.info/forum/showthread.php?8707-News-and-Media-Reports&p=2255201&viewfull=1#post2255201 Dayton Ohio\n",
      "http://www.USASexGuide.info/forum/showthread.php?7357-Backpage-Advertiser-Reviews&p=2237958&viewfull=1#post2237958 Jacksonville Florida\n",
      "http://www.USASexGuide.info/forum/showthread.php?4500-Streetwalker-Reports&p=2246059&viewfull=1#post2246059 Detroit Michigan\n",
      "http://www.USASexGuide.info/forum/showthread.php?3921-Streetwalker-Reports&p=2231430&viewfull=1#post2231430 St. Petersburg Florida\n",
      "http://www.USASexGuide.info/forum/showthread.php?11470-USA-Adult-Classified-Advertiser-Reviews&p=2244627&viewfull=1#post2244627 Cincinnati Ohio\n",
      "http://www.USASexGuide.info/forum/showthread.php?2283-Korean-Bar-Reports&p=2229445&viewfull=1#post2229445 Honolulu Hawaii\n",
      "http://www.USASexGuide.info/forum/showthread.php?7357-Backpage-Advertiser-Reviews&p=2242685&viewfull=1#post2242685 Jacksonville Florida\n",
      "http://www.USASexGuide.info/forum/showthread.php?4854-Streetwalker-Reports&p=2242013&viewfull=1#post2242013 Honolulu Hawaii\n",
      "http://www.USASexGuide.info/forum/showthread.php?4192-Massage-Parlor-Reports&p=2235650&viewfull=1#post2235650 Tucson Arizona\n",
      "http://www.USASexGuide.info/forum/showthread.php?6834-BackPage-Advertiser-Reviews&p=2257819&viewfull=1#post2257819 Anchorage Alaska\n",
      "http://www.USASexGuide.info/forum/showthread.php?9746-quot-Sugarbabies-quot-quot-Arrangements-quot-Amateurs-or-Not&p=2249314&viewfull=1#post2249314 Richmond Virginia\n",
      "http://www.USASexGuide.info/forum/showthread.php?4047-Streetwalker-Reports&p=2255533&viewfull=1#post2255533 South Bend Indiana\n",
      "http://www.USASexGuide.info/forum/showthread.php?5226-Streetwalker-Reports&p=2232094&viewfull=1#post2232094 Chicago Illinois\n",
      "http://www.USASexGuide.info/forum/showthread.php?6877-BackPage-Advertiser-Reviews&p=2245407&viewfull=1#post2245407 Phoenix Arizona\n",
      "http://www.USASexGuide.info/forum/showthread.php?3666-Massage-Parlor-Reports&p=2243058&viewfull=1#post2243058 Orlando/Central Florida Florida\n",
      "http://www.USASexGuide.info/forum/showthread.php?5696-Massage-Parlor-Reports&p=2244022&viewfull=1#post2244022 Anchorage Alaska\n",
      "http://www.USASexGuide.info/forum/showthread.php?7513-BackPage-Advertiser-Reviews&p=2234243&viewfull=1#post2234243 Honolulu Hawaii\n",
      "http://www.USASexGuide.info/forum/showthread.php?7513-BackPage-Advertiser-Reviews&p=2244589&viewfull=1#post2244589 Honolulu Hawaii\n",
      "http://www.USASexGuide.info/forum/showthread.php?8627-Backpage-Advertiser-Reviews&p=2251091&viewfull=1#post2251091 Raleigh North Carolina\n",
      "http://www.USASexGuide.info/forum/showthread.php?9922-Non-Pros-(Baldy-Cruiser-amp-BladeRunner556)&p=2233062&viewfull=1#post2233062 Los Angeles California\n",
      "http://www.USASexGuide.info/forum/showthread.php?6014-Streetwalker-Reports&p=2233539&viewfull=1#post2233539 Manchester New Hampshire\n",
      "http://www.USASexGuide.info/forum/showthread.php?4192-Massage-Parlor-Reports&p=2235578&viewfull=1#post2235578 Tucson Arizona\n",
      "http://www.USASexGuide.info/forum/showthread.php?3035-Newark&p=2241275&viewfull=1#post2241275 OH-Other Areas Ohio\n",
      "http://www.USASexGuide.info/forum/showthread.php?7357-Backpage-Advertiser-Reviews&p=2237958&viewfull=1#post2237958 Jacksonville Florida\n",
      "http://www.USASexGuide.info/forum/showthread.php?8627-Backpage-Advertiser-Reviews&p=2251091&viewfull=1#post2251091 Raleigh North Carolina\n",
      "http://www.USASexGuide.info/forum/showthread.php?8698-Backpage-Advertiser-Reviews&p=2249787&viewfull=1#post2249787 Cincinnati Ohio\n",
      "http://www.USASexGuide.info/forum/showthread.php?5226-Streetwalker-Reports&p=2234572&viewfull=1#post2234572 Chicago Illinois\n",
      "http://www.USASexGuide.info/forum/showthread.php?3568-General-Reports&p=2246434&viewfull=1#post2246434 Memphis Tennessee\n",
      "http://www.USASexGuide.info/forum/showthread.php?8688-BackPage-Advertiser-Reviews&p=2250788&viewfull=1#post2250788 Akron Ohio\n",
      "http://www.USASexGuide.info/forum/showthread.php?5226-Streetwalker-Reports&p=2237877&viewfull=1#post2237877 Chicago Illinois\n",
      "http://www.USASexGuide.info/forum/showthread.php?3735-Streetwalker-Reports&p=2248415&viewfull=1#post2248415 Baltimore Maryland\n",
      "http://www.USASexGuide.info/forum/showthread.php?8280-BackPage-Advertiser-Reviews&p=2257306&viewfull=1#post2257306 Saint Louis Missouri\n",
      "http://www.USASexGuide.info/forum/showthread.php?12221-The-Rat-Trap&p=2229390&viewfull=1#post2229390 Orlando/Central Florida Florida\n",
      "http://www.USASexGuide.info/forum/showthread.php?8592-BackPage-Advertiser-Reviews&p=2236735&viewfull=1#post2236735 Charlotte North Carolina\n",
      "http://www.USASexGuide.info/forum/showthread.php?4885-Massage-Parlor-Reports&p=2252617&viewfull=1#post2252617 Phoenix Arizona\n",
      "http://www.USASexGuide.info/forum/showthread.php?4192-Massage-Parlor-Reports&p=2235650&viewfull=1#post2235650 Tucson Arizona\n",
      "http://www.USASexGuide.info/forum/showthread.php?3921-Streetwalker-Reports&p=2256013&viewfull=1#post2256013 St. Petersburg Florida\n",
      "http://www.USASexGuide.info/forum/showthread.php?4160-Escort-Reviews&p=2251793&viewfull=1#post2251793 Knoxville Tennessee\n",
      "http://www.USASexGuide.info/forum/showthread.php?6834-BackPage-Advertiser-Reviews&p=2257960&viewfull=1#post2257960 Anchorage Alaska\n",
      "http://www.USASexGuide.info/forum/showthread.php?9059-News-and-Media-Reports&p=2232427&viewfull=1#post2232427 Nashville Tennessee\n",
      "http://www.USASexGuide.info/forum/showthread.php?8627-Backpage-Advertiser-Reviews&p=2249942&viewfull=1#post2249942 Raleigh North Carolina\n",
      "http://www.USASexGuide.info/forum/showthread.php?3917-Massage-Parlor-Reports&p=2230104&viewfull=1#post2230104 Miami Florida\n",
      "http://www.USASexGuide.info/forum/showthread.php?8707-News-and-Media-Reports&p=2236204&viewfull=1#post2236204 Dayton Ohio\n",
      "http://www.USASexGuide.info/forum/showthread.php?3735-Streetwalker-Reports&p=2246729&viewfull=1#post2246729 Baltimore Maryland\n",
      "http://www.USASexGuide.info/forum/showthread.php?7357-Backpage-Advertiser-Reviews&p=2254802&viewfull=1#post2254802 Jacksonville Florida\n",
      "http://www.USASexGuide.info/forum/showthread.php?7357-Backpage-Advertiser-Reviews&p=2240305&viewfull=1#post2240305 Jacksonville Florida\n",
      "http://www.USASexGuide.info/forum/showthread.php?9922-Non-Pros-(Baldy-Cruiser-amp-BladeRunner556)&p=2233062&viewfull=1#post2233062 Los Angeles California\n",
      "http://www.USASexGuide.info/forum/showthread.php?7541-Massage-Therapists&p=2238869&viewfull=1#post2238869 Honolulu Hawaii\n",
      "http://www.USASexGuide.info/forum/showthread.php?7357-Backpage-Advertiser-Reviews&p=2256810&viewfull=1#post2256810 Jacksonville Florida\n",
      "http://www.USASexGuide.info/forum/showthread.php?5524-Craigslist-Advertiser-Reviews&p=2240811&viewfull=1#post2240811 Cincinnati Ohio\n",
      "http://www.USASexGuide.info/forum/showthread.php?7746-BackPage-Advertiser-Reviews&p=2242111&viewfull=1#post2242111 Indianapolis Indiana\n",
      "http://www.USASexGuide.info/forum/showthread.php?6834-Backpage-Advertiser-Reviews&p=2257702&viewfull=1#post2257702 Anchorage Alaska\n",
      "http://www.USASexGuide.info/forum/showthread.php?3848-Ripoff-Reports&p=2257961&viewfull=1#post2257961 Las Vegas Nevada\n",
      "http://www.USASexGuide.info/forum/showthread.php?7970-BackPage-Advertiser-Reviews&p=2229120&viewfull=1#post2229120 Baltimore Maryland\n",
      "http://www.USASexGuide.info/forum/showthread.php?9243-BackPage-Advertiser-Reviews&p=2234771&viewfull=1#post2234771 Tidewater Area Virginia\n",
      "http://www.USASexGuide.info/forum/showthread.php?3700-Escort-Reports&p=2257904&viewfull=1#post2257904 Atlanta Georgia\n",
      "http://www.USASexGuide.info/forum/showthread.php?8962-BackPage-Advertiser-Reviews&p=2245121&viewfull=1#post2245121 Myrtle Beach South Carolina\n",
      "http://www.USASexGuide.info/forum/showthread.php?8731-BackPage-Advertiser-Reviews&p=2234337&viewfull=1#post2234337 Youngstown Ohio\n",
      "http://www.USASexGuide.info/forum/showthread.php?9059-News-and-Media-Reports&p=2244550&viewfull=1#post2244550 Nashville Tennessee\n",
      "http://www.USASexGuide.info/forum/showthread.php?7357-Backpage-Advertiser-Reviews&p=2256810&viewfull=1#post2256810 Jacksonville Florida\n",
      "http://www.USASexGuide.info/forum/showthread.php?6789-Massage-Parlor-Reports&p=2256740&viewfull=1#post2256740 Birmingham Alabama\n",
      "http://www.USASexGuide.info/forum/showthread.php?7881-BackPage-Advertiser-Reviews&p=2238487&viewfull=1#post2238487 Lexington & I-75 Kentucky\n",
      "http://www.USASexGuide.info/forum/showthread.php?3735-Streetwalker-Reports&p=2248415&viewfull=1#post2248415 Baltimore Maryland\n",
      "http://www.USASexGuide.info/forum/showthread.php?6877-BackPage-Advertiser-Reviews&p=2245407&viewfull=1#post2245407 Phoenix Arizona\n",
      "http://www.USASexGuide.info/forum/showthread.php?5696-Massage-Parlor-Reports&p=2244022&viewfull=1#post2244022 Anchorage Alaska\n",
      "http://www.USASexGuide.info/forum/showthread.php?8148-BackPage-Advertiser-Reviews&p=2253374&viewfull=1#post2253374 Detroit Michigan\n",
      "http://www.USASexGuide.info/forum/showthread.php?4159-General-Reports&p=2245200&viewfull=1#post2245200 Knoxville Tennessee\n",
      "http://www.USASexGuide.info/forum/showthread.php?3735-Streetwalker-Reports&p=2238330&viewfull=1#post2238330 Baltimore Maryland\n",
      "http://www.USASexGuide.info/forum/showthread.php?8722-BackPage-Advertiser-Reviews&p=2241449&viewfull=1#post2241449 Toledo Ohio\n",
      "http://www.USASexGuide.info/forum/showthread.php?6877-BackPage-Advertiser-Reviews&p=2245407&viewfull=1#post2245407 Phoenix Arizona\n",
      "http://www.USASexGuide.info/forum/showthread.php?4350-Escort-Classified-Ads-Member-Discussions&p=2241857&viewfull=1#post2241857 Brevard County Florida\n",
      "http://www.USASexGuide.info/forum/showthread.php?3651-General-Reports&p=2241791&viewfull=1#post2241791 Brevard County Florida\n",
      "http://www.USASexGuide.info/forum/showthread.php?8926-BackPage-Advertiser-Reviews&p=2242017&viewfull=1#post2242017 Charleston South Carolina\n",
      "http://www.USASexGuide.info/forum/showthread.php?7357-Backpage-Advertiser-Reviews&p=2240662&viewfull=1#post2240662 Jacksonville Florida\n",
      "http://www.USASexGuide.info/forum/showthread.php?6089-BackPage-Advertiser-Reviews&p=2234765&viewfull=1#post2234765 Orlando/Central Florida Florida\n",
      "http://www.USASexGuide.info/forum/showthread.php?3787-General-Reports&p=2249510&viewfull=1#post2249510 South Jersey New Jersey\n",
      "http://www.USASexGuide.info/forum/showthread.php?7357-Backpage-Advertiser-Reviews&p=2242685&viewfull=1#post2242685 Jacksonville Florida\n",
      "http://www.USASexGuide.info/forum/showthread.php?4885-Massage-Parlor-Reports&p=2257943&viewfull=1#post2257943 Phoenix Arizona\n",
      "http://www.USASexGuide.info/forum/showthread.php?8627-Backpage-Advertiser-Reviews&p=2251091&viewfull=1#post2251091 Raleigh North Carolina\n",
      "http://www.USASexGuide.info/forum/showthread.php?7746-BackPage-Advertiser-Reviews&p=2235010&viewfull=1#post2235010 Indianapolis Indiana\n",
      "http://www.USASexGuide.info/forum/showthread.php?6022-Escort-Classified-Ads-Member-Discussions&p=2236850&viewfull=1#post2236850 Orlando/Central Florida Florida\n",
      "http://www.USASexGuide.info/forum/showthread.php?7659-Massage-Parlor-Reports&p=2232587&viewfull=1#post2232587 Mt. Prospect Illinois\n",
      "http://www.USASexGuide.info/forum/showthread.php?9030-Escort-Reports&p=2249020&viewfull=1#post2249020 Chattanooga Tennessee\n",
      "http://www.USASexGuide.info/forum/showthread.php?5365-Massage-Parlor-Reports&p=2232397&viewfull=1#post2232397 Charlotte North Carolina\n",
      "http://www.USASexGuide.info/forum/showthread.php?8688-BackPage-Advertiser-Reviews&p=2247282&viewfull=1#post2247282 Akron Ohio\n",
      "http://www.USASexGuide.info/forum/showthread.php?6877-BackPage-Advertiser-Reviews&p=2245475&viewfull=1#post2245475 Phoenix Arizona\n",
      "http://www.USASexGuide.info/forum/showthread.php?7755-Backpage-Advertiser-Reviews&p=2257575&viewfull=1#post2257575 NW Indiana Indiana\n",
      "http://www.USASexGuide.info/forum/showthread.php?9057-BackPage-Advertiser-Reviews&p=2238361&viewfull=1#post2238361 Nashville Tennessee\n",
      "http://www.USASexGuide.info/forum/showthread.php?3472-Streetwalker-Reports&p=2256133&viewfull=1#post2256133  San Diego California\n",
      "http://www.USASexGuide.info/forum/showthread.php?5323-Streetwalker-Reports&p=2232950&viewfull=1#post2232950 Daytona Beach Florida\n",
      "http://www.USASexGuide.info/forum/showthread.php?9856-Korean-Bar-Tactics-discussions-and-ridiculous-arguments-about-KBG-s&p=2250833&viewfull=1#post2250833 Honolulu Hawaii\n",
      "http://www.USASexGuide.info/forum/showthread.php?6834-BackPage-Advertiser-Reviews&p=2257702&viewfull=1#post2257702 Anchorage Alaska\n",
      "http://www.USASexGuide.info/forum/showthread.php?11858-Zanesville-Cambridge&p=2241272&viewfull=1#post2241272 OH-Other Areas Ohio\n",
      "http://www.USASexGuide.info/forum/showthread.php?7357-Backpage-Advertiser-Reviews&p=2246201&viewfull=1#post2246201 Jacksonville Florida\n",
      "http://www.USASexGuide.info/forum/showthread.php?7357-Backpage-Advertiser-Reviews&p=2240305&viewfull=1#post2240305 Jacksonville Florida\n",
      "http://www.USASexGuide.info/forum/showthread.php?8931-BackPage-Advertiser-Reviews&p=2248346&viewfull=1#post2248346 Columbia South Carolina\n",
      "http://www.USASexGuide.info/forum/showthread.php?7358-News-and-Media-Reports&p=2252510&viewfull=1#post2252510 Jacksonville Florida\n",
      "http://www.USASexGuide.info/forum/showthread.php?3735-Streetwalker-Reports&p=2254426&viewfull=1#post2254426 Baltimore Maryland\n",
      "http://www.USASexGuide.info/forum/showthread.php?4155-General-Reports&p=2234296&viewfull=1#post2234296 Chattanooga Tennessee\n",
      "http://www.USASexGuide.info/forum/showthread.php?7870-Ripoff-Reports&p=2239252&viewfull=1#post2239252 Wichita Kansas\n",
      "http://www.USASexGuide.info/forum/showthread.php?8148-BackPage-Advertiser-Reviews&p=2243027&viewfull=1#post2243027 Detroit Michigan\n",
      "http://www.USASexGuide.info/forum/showthread.php?11470-USA-Adult-Classified-Advertiser-Reviews&p=2232392&viewfull=1#post2232392 Cincinnati Ohio\n",
      "http://www.USASexGuide.info/forum/showthread.php?6022-Escort-Classified-Ads-Member-Discussions&p=2236850&viewfull=1#post2236850 Orlando/Central Florida Florida\n",
      "http://www.USASexGuide.info/forum/showthread.php?3725-General-Reports&p=2241324&viewfull=1#post2241324 Lowell Massachusetts\n",
      "http://www.USASexGuide.info/forum/showthread.php?11470-USA-Adult-Classified-Advertiser-Reviews&p=2244627&viewfull=1#post2244627 Cincinnati Ohio\n",
      "http://www.USASexGuide.info/forum/showthread.php?11153-Bareback-Beauties&p=2250258&viewfull=1#post2250258 Los Angeles California\n",
      "http://www.USASexGuide.info/forum/showthread.php?3363-General-Reports&p=2255783&viewfull=1#post2255783 Atlanta Georgia\n",
      "http://www.USASexGuide.info/forum/showthread.php?3735-Streetwalker-Reports&p=2245801&viewfull=1#post2245801 Baltimore Maryland\n",
      "http://www.USASexGuide.info/forum/showthread.php?9922-Non-Pros-(Baldy-Cruiser-amp-BladeRunner556)&p=2233062&viewfull=1#post2233062 Los Angeles California\n",
      "http://www.USASexGuide.info/forum/showthread.php?4162-Escort-Reports&p=2244785&viewfull=1#post2244785 Memphis Tennessee\n",
      "http://www.USASexGuide.info/forum/showthread.php?9368-BackPage-Advertiser-Reviews&p=2244481&viewfull=1#post2244481 Milwaukee Wisconsin\n",
      "http://www.USASexGuide.info/forum/showthread.php?3735-Streetwalker-Reports&p=2248487&viewfull=1#post2248487 Baltimore Maryland\n",
      "http://www.USASexGuide.info/forum/showthread.php?8731-BackPage-Advertiser-Reviews&p=2234478&viewfull=1#post2234478 Youngstown Ohio\n",
      "http://www.USASexGuide.info/forum/showthread.php?1473-Jacksonville&p=2246800&viewfull=1#post2246800 NC-Other Areas North Carolina\n",
      "http://www.USASexGuide.info/forum/showthread.php?4155-General-Reports&p=2247571&viewfull=1#post2247571 Chattanooga Tennessee\n",
      "http://www.USASexGuide.info/forum/showthread.php?5226-Streetwalker-Reports&p=2238603&viewfull=1#post2238603 Chicago Illinois\n",
      "http://www.USASexGuide.info/forum/showthread.php?7513-BackPage-Advertiser-Reviews&p=2244589&viewfull=1#post2244589 Honolulu Hawaii\n",
      "http://www.USASexGuide.info/forum/showthread.php?7463-News-and-Media-Reports&p=2254964&viewfull=1#post2254964 Atlanta Georgia\n",
      "http://www.USASexGuide.info/forum/showthread.php?8926-BackPage-Advertiser-Reviews&p=2242088&viewfull=1#post2242088 Charleston South Carolina\n",
      "http://www.USASexGuide.info/forum/showthread.php?7357-Backpage-Advertiser-Reviews&p=2246201&viewfull=1#post2246201 Jacksonville Florida\n",
      "http://www.USASexGuide.info/forum/showthread.php?3921-Streetwalker-Reports&p=2231458&viewfull=1#post2231458 St. Petersburg Florida\n",
      "http://www.USASexGuide.info/forum/showthread.php?3972-Strip-Club-Reports&p=2253469&viewfull=1#post2253469 Akron Ohio\n",
      "http://www.USASexGuide.info/forum/showthread.php?5865-Positive-Escort-Reviews&p=2254847&viewfull=1#post2254847 Orlando/Central Florida Florida\n",
      "http://www.USASexGuide.info/forum/showthread.php?7513-BackPage-Advertiser-Reviews&p=2229126&viewfull=1#post2229126 Honolulu Hawaii\n",
      "http://www.USASexGuide.info/forum/showthread.php?8926-BackPage-Advertiser-Reviews&p=2244156&viewfull=1#post2244156 Charleston South Carolina\n",
      "http://www.USASexGuide.info/forum/showthread.php?9048-Streetwalker-Reports&p=2251180&viewfull=1#post2251180 Knoxville Tennessee\n",
      "http://www.USASexGuide.info/forum/showthread.php?8119-Streetwalker-Reports&p=2235086&viewfull=1#post2235086 Worcester Massachusetts\n",
      "http://www.USASexGuide.info/forum/showthread.php?8942-BackPage-Advertiser-Reviews&p=2255500&viewfull=1#post2255500 Greenville South Carolina\n",
      "http://www.USASexGuide.info/forum/showthread.php?7513-BackPage-Advertiser-Reviews&p=2272583&viewfull=1#post2272583 Honolulu Hawaii\n",
      "http://www.USASexGuide.info/forum/showthread.php?6789-Massage-Parlor-Reports&p=2256823&viewfull=1#post2256823 Birmingham Alabama\n",
      "http://www.USASexGuide.info/forum/showthread.php?7888-Streetwalker-Reports&p=2245664&viewfull=1#post2245664 Lexington & I-75 Kentucky\n",
      "http://www.USASexGuide.info/forum/showthread.php?5226-Streetwalker-Reports&p=2238812&viewfull=1#post2238812 Chicago Illinois\n",
      "http://www.USASexGuide.info/forum/showthread.php?7358-News-and-Media-Reports&p=2252608&viewfull=1#post2252608 Jacksonville Florida\n",
      "http://www.USASexGuide.info/forum/showthread.php?8926-BackPage-Advertiser-Reviews&p=2245490&viewfull=1#post2245490 Charleston South Carolina\n",
      "http://www.USASexGuide.info/forum/showthread.php?9922-Non-Pros-(Baldy-Cruiser-amp-BladeRunner556)&p=2233062&viewfull=1#post2233062 Los Angeles California\n",
      "http://www.USASexGuide.info/forum/showthread.php?4159-General-Reports&p=2245200&viewfull=1#post2245200 Knoxville Tennessee\n",
      "http://www.USASexGuide.info/forum/showthread.php?4786-Streetwalker-Reports&p=2254516&viewfull=1#post2254516 Jacksonville Florida\n",
      "http://www.USASexGuide.info/forum/showthread.php?6014-Streetwalker-Reports&p=2233539&viewfull=1#post2233539 Manchester New Hampshire\n",
      "http://www.USASexGuide.info/forum/showthread.php?8942-BackPage-Advertiser-Reviews&p=2243747&viewfull=1#post2243747 Greenville South Carolina\n",
      "http://www.USASexGuide.info/forum/showthread.php?3735-Streetwalker-Reports&p=2245801&viewfull=1#post2245801 Baltimore Maryland\n",
      "http://www.USASexGuide.info/forum/showthread.php?3735-Streetwalker-Reports&p=2248487&viewfull=1#post2248487 Baltimore Maryland\n",
      "http://www.USASexGuide.info/forum/showthread.php?8592-BackPage-Advertiser-Reviews&p=2248194&viewfull=1#post2248194 Charlotte North Carolina\n",
      "http://www.USASexGuide.info/forum/showthread.php?5226-Streetwalker-Reports&p=2237877&viewfull=1#post2237877 Chicago Illinois\n",
      "http://www.USASexGuide.info/forum/showthread.php?6834-BackPage-Advertiser-Reviews&p=2257960&viewfull=1#post2257960 Anchorage Alaska\n",
      "http://www.USASexGuide.info/forum/showthread.php?2283-Korean-Bar-Reports&p=2229750&viewfull=1#post2229750 Honolulu Hawaii\n",
      "http://www.USASexGuide.info/forum/showthread.php?9922-Non-Pros-(Baldy-Cruiser-amp-BladeRunner556)&p=2233062&viewfull=1#post2233062 Los Angeles California\n",
      "http://www.USASexGuide.info/forum/showthread.php?7207-BackPage-Advertiser-Reviews&p=2248901&viewfull=1#post2248901 Hartford Connecticut\n",
      "http://www.USASexGuide.info/forum/showthread.php?4157-Massage-Parlor-Reports&p=2272907&viewfull=1#post2272907 Chattanooga Tennessee\n",
      "http://www.USASexGuide.info/forum/showthread.php?8942-BackPage-Advertiser-Reviews&p=2255500&viewfull=1#post2255500 Greenville South Carolina\n",
      "http://www.USASexGuide.info/forum/showthread.php?3651-General-Reports&p=2241791&viewfull=1#post2241791 Brevard County Florida\n",
      "http://www.USASexGuide.info/forum/showthread.php?7357-Backpage-Advertiser-Reviews&p=2242685&viewfull=1#post2242685 Jacksonville Florida\n",
      "http://www.USASexGuide.info/forum/showthread.php?3921-Streetwalker-Reports&p=2241922&viewfull=1#post2241922 St. Petersburg Florida\n",
      "http://www.USASexGuide.info/forum/showthread.php?7357-Backpage-Advertiser-Reviews&p=2237958&viewfull=1#post2237958 Jacksonville Florida\n",
      "http://www.USASexGuide.info/forum/showthread.php?3918-Streetwalker-Reports&p=2239682&viewfull=1#post2239682 Orlando/Central Florida Florida\n",
      "http://www.USASexGuide.info/forum/showthread.php?4192-Massage-Parlor-Reports&p=2235578&viewfull=1#post2235578 Tucson Arizona\n",
      "http://www.USASexGuide.info/forum/showthread.php?8592-BackPage-Advertiser-Reviews&p=2249816&viewfull=1#post2249816 Charlotte North Carolina\n",
      "http://www.USASexGuide.info/forum/showthread.php?8962-BackPage-Advertiser-Reviews&p=2245121&viewfull=1#post2245121 Myrtle Beach South Carolina\n",
      "http://www.USASexGuide.info/forum/showthread.php?4885-Massage-Parlor-Reports&p=2254792&viewfull=1#post2254792 Phoenix Arizona\n",
      "http://www.USASexGuide.info/forum/showthread.php?3735-Streetwalker-Reports&p=2254426&viewfull=1#post2254426 Baltimore Maryland\n",
      "http://www.USASexGuide.info/forum/showthread.php?9057-BackPage-Advertiser-Reviews&p=2229886&viewfull=1#post2229886 Nashville Tennessee\n",
      "http://www.USASexGuide.info/forum/showthread.php?3735-Streetwalker-Reports&p=2248998&viewfull=1#post2248998 Baltimore Maryland\n",
      "http://www.USASexGuide.info/forum/showthread.php?3735-Streetwalker-Reports&p=2246729&viewfull=1#post2246729 Baltimore Maryland\n",
      "http://www.USASexGuide.info/forum/showthread.php?7419-Streetwalker-Reports&p=2231851&viewfull=1#post2231851 Pompano Beach Florida\n",
      "http://www.USASexGuide.info/forum/showthread.php?7357-Backpage-Advertiser-Reviews&p=2254802&viewfull=1#post2254802 Jacksonville Florida\n",
      "http://www.USASexGuide.info/forum/showthread.php?7357-Backpage-Advertiser-Reviews&p=2254802&viewfull=1#post2254802 Jacksonville Florida\n",
      "http://www.USASexGuide.info/forum/showthread.php?11153-Bareback-Beauties&p=2244168&viewfull=1#post2244168 Los Angeles California\n",
      "http://www.USASexGuide.info/forum/showthread.php?3508-General-Reports&p=2255630&viewfull=1#post2255630 Denver Colorado\n",
      "http://www.USASexGuide.info/forum/showthread.php?3972-Strip-Club-Reports&p=2250333&viewfull=1#post2250333 Akron Ohio\n",
      "http://www.USASexGuide.info/forum/showthread.php?3918-Streetwalker-Reports&p=2236608&viewfull=1#post2236608 Orlando/Central Florida Florida\n",
      "http://www.USASexGuide.info/forum/showthread.php?3838-Streetwalker-Reports&p=2238263&viewfull=1#post2238263 Gastonia North Carolina\n",
      "http://www.USASexGuide.info/forum/showthread.php?6054-Adult-Bookstores&p=2251891&viewfull=1#post2251891 Raleigh North Carolina\n",
      "http://www.USASexGuide.info/forum/showthread.php?7357-Backpage-Advertiser-Reviews&p=2295714&viewfull=1#post2295714 Jacksonville Florida\n",
      "http://www.USASexGuide.info/forum/showthread.php?8926-BackPage-Advertiser-Reviews&p=2242088&viewfull=1#post2242088 Charleston South Carolina\n",
      "http://www.USASexGuide.info/forum/showthread.php?8926-BackPage-Advertiser-Reviews&p=2242017&viewfull=1#post2242017 Charleston South Carolina\n",
      "http://www.USASexGuide.info/forum/showthread.php?6877-BackPage-Advertiser-Reviews&p=2245407&viewfull=1#post2245407 Phoenix Arizona\n",
      "http://www.USASexGuide.info/forum/showthread.php?7357-Backpage-Advertiser-Reviews&p=2240305&viewfull=1#post2240305 Jacksonville Florida\n",
      "http://www.USASexGuide.info/forum/showthread.php?8160-Non-Asian-Massage-Parlor-Reports&p=2257349&viewfull=1#post2257349 Boston Massachusetts\n",
      "http://www.USASexGuide.info/forum/showthread.php?3787-General-Reports&p=2246833&viewfull=1#post2246833 South Jersey New Jersey\n",
      "http://www.USASexGuide.info/forum/showthread.php?8627-Backpage-Advertiser-Reviews&p=2250651&viewfull=1#post2250651 Raleigh North Carolina\n",
      "http://www.USASexGuide.info/forum/showthread.php?9057-BackPage-Advertiser-Reviews&p=2257597&viewfull=1#post2257597 Nashville Tennessee\n",
      "http://www.USASexGuide.info/forum/showthread.php?4192-Massage-Parlor-Reports&p=2235650&viewfull=1#post2235650 Tucson Arizona\n",
      "http://www.USASexGuide.info/forum/showthread.php?9368-BackPage-Advertiser-Reviews&p=2244867&viewfull=1#post2244867 Milwaukee Wisconsin\n",
      "http://www.USASexGuide.info/forum/showthread.php?9368-BackPage-Advertiser-Reviews&p=2244901&viewfull=1#post2244901 Milwaukee Wisconsin\n",
      "http://www.USASexGuide.info/forum/showthread.php?3651-General-Reports&p=2245120&viewfull=1#post2245120 Brevard County Florida\n",
      "http://www.USASexGuide.info/forum/showthread.php?7641-Massage-Parlor-Reports&p=2235390&viewfull=1#post2235390 Lombard Illinois\n",
      "http://www.USASexGuide.info/forum/showthread.php?7334-BackPage-Advertiser-Reviews&p=2243483&viewfull=1#post2243483 Ft. Myers Florida\n",
      "http://www.USASexGuide.info/forum/showthread.php?11153-Bareback-Beauties&p=2250258&viewfull=1#post2250258 Los Angeles California\n",
      "http://www.USASexGuide.info/forum/showthread.php?7890-BackPage-Advertiser-Reviews&p=2307837&viewfull=1#post2307837 Louisville Kentucky\n",
      "http://www.USASexGuide.info/forum/showthread.php?4192-Massage-Parlor-Reports&p=2235650&viewfull=1#post2235650 Tucson Arizona\n",
      "http://www.USASexGuide.info/forum/showthread.php?9057-BackPage-Advertiser-Reviews&p=2232251&viewfull=1#post2232251 Nashville Tennessee\n",
      "http://www.USASexGuide.info/forum/showthread.php?9030-Escort-Reports&p=2245616&viewfull=1#post2245616 Chattanooga Tennessee\n",
      "http://www.USASexGuide.info/forum/showthread.php?3735-Streetwalker-Reports&p=2236777&viewfull=1#post2236777 Baltimore Maryland\n",
      "http://www.USASexGuide.info/forum/showthread.php?3406-General-Reports&p=2259706&viewfull=1#post2259706 Phoenix Arizona\n",
      "http://www.USASexGuide.info/forum/showthread.php?4718-Escort-Classified-Ads-Member-Discussions&p=2237783&viewfull=1#post2237783 Chattanooga Tennessee\n",
      "http://www.USASexGuide.info/forum/showthread.php?4718-Escort-Classified-Ads-Member-Discussions&p=2237783&viewfull=1#post2237783 Chattanooga Tennessee\n",
      "http://www.USASexGuide.info/forum/showthread.php?3497-General-Reports&p=2251233&viewfull=1#post2251233 CT-Other Areas Connecticut\n",
      "http://www.USASexGuide.info/forum/showthread.php?7513-BackPage-Advertiser-Reviews&p=2234243&viewfull=1#post2234243 Honolulu Hawaii\n",
      "http://www.USASexGuide.info/forum/showthread.php?8701-BackPage-Advertiser-Reviews&p=2237110&viewfull=1#post2237110 Cleveland Ohio\n",
      "http://www.USASexGuide.info/forum/showthread.php?7888-Streetwalker-Reports&p=2245664&viewfull=1#post2245664 Lexington & I-75 Kentucky\n",
      "http://www.USASexGuide.info/forum/showthread.php?5365-Massage-Parlor-Reports&p=2232123&viewfull=1#post2232123 Charlotte North Carolina\n",
      "http://www.USASexGuide.info/forum/showthread.php?3767-Streetwalker-Reports&p=2232452&viewfull=1#post2232452 Las Vegas Nevada\n",
      "http://www.USASexGuide.info/forum/showthread.php?4160-Escort-Reviews&p=2251793&viewfull=1#post2251793 Knoxville Tennessee\n",
      "http://www.USASexGuide.info/forum/showthread.php?3787-General-Reports&p=2248331&viewfull=1#post2248331 South Jersey New Jersey\n",
      "http://www.USASexGuide.info/forum/showthread.php?9634-High-Point&p=2232705&viewfull=1#post2232705 NC-Other Areas North Carolina\n",
      "http://www.USASexGuide.info/forum/showthread.php?7357-Backpage-Advertiser-Reviews&p=2256810&viewfull=1#post2256810 Jacksonville Florida\n",
      "http://www.USASexGuide.info/forum/showthread.php?6877-BackPage-Advertiser-Reviews&p=2245475&viewfull=1#post2245475 Phoenix Arizona\n",
      "http://www.USASexGuide.info/forum/showthread.php?8119-Streetwalker-Reports&p=2236977&viewfull=1#post2236977 Worcester Massachusetts\n",
      "http://www.USASexGuide.info/forum/showthread.php?6834-BackPage-Advertiser-Reviews&p=2257819&viewfull=1#post2257819 Anchorage Alaska\n",
      "http://www.USASexGuide.info/forum/showthread.php?3735-Streetwalker-Reports&p=2254948&viewfull=1#post2254948 Baltimore Maryland\n",
      "http://www.USASexGuide.info/forum/showthread.php?6787-Backpage-Advertiser-Reviews&p=2265660&viewfull=1#post2265660 Birmingham Alabama\n",
      "http://www.USASexGuide.info/forum/showthread.php?4192-Massage-Parlor-Reports&p=2235578&viewfull=1#post2235578 Tucson Arizona\n",
      "http://www.USASexGuide.info/forum/showthread.php?3867-Streetwalker-Reports&p=2236752&viewfull=1#post2236752 Brooklyn, NYC New York\n",
      "http://www.USASexGuide.info/forum/showthread.php?3735-Streetwalker-Reports&p=2245801&viewfull=1#post2245801 Baltimore Maryland\n",
      "http://www.USASexGuide.info/forum/showthread.php?2558-Pine&p=2256876&viewfull=1#post2256876 Waukegan/Gurnee Illinois\n",
      "http://www.USASexGuide.info/forum/showthread.php?8942-BackPage-Advertiser-Reviews&p=2262133&viewfull=1#post2262133 Greenville South Carolina\n",
      "http://www.USASexGuide.info/forum/showthread.php?11569-Escort-Reports&p=2229969&viewfull=1#post2229969 Bowling Green Kentucky\n",
      "http://www.USASexGuide.info/forum/showthread.php?3960-Escort-Reports&p=2272274&viewfull=1#post2272274 Northern Virginia Virginia\n",
      "http://www.USASexGuide.info/forum/showthread.php?7357-Backpage-Advertiser-Reviews&p=2258852&viewfull=1#post2258852 Jacksonville Florida\n",
      "http://www.USASexGuide.info/forum/showthread.php?9057-BackPage-Advertiser-Reviews&p=2281710&viewfull=1#post2281710 Nashville Tennessee\n",
      "http://www.USASexGuide.info/forum/showthread.php?3918-Streetwalker-Reports&p=2271142&viewfull=1#post2271142 Orlando/Central Florida Florida\n",
      "http://www.USASexGuide.info/forum/showthread.php?3497-General-Reports&p=2273554&viewfull=1#post2273554 CT-Other Areas Connecticut\n",
      "http://www.USASexGuide.info/forum/showthread.php?3363-General-Reports&p=2264532&viewfull=1#post2264532 Atlanta Georgia\n",
      "http://www.USASexGuide.info/forum/showthread.php?7357-Backpage-Advertiser-Reviews&p=2258852&viewfull=1#post2258852 Jacksonville Florida\n",
      "http://www.USASexGuide.info/forum/showthread.php?3914-Streetwalker-Reports&p=2283217&viewfull=1#post2283217 Miami Florida\n",
      "http://www.USASexGuide.info/forum/showthread.php?8627-Backpage-Advertiser-Reviews&p=2272027&viewfull=1#post2272027 Raleigh North Carolina\n",
      "http://www.USASexGuide.info/forum/showthread.php?3735-Streetwalker-Reports&p=2279465&viewfull=1#post2279465 Baltimore Maryland\n",
      "http://www.USASexGuide.info/forum/showthread.php?3735-Streetwalker-Reports&p=2279465&viewfull=1#post2279465 Baltimore Maryland\n",
      "http://www.USASexGuide.info/forum/showthread.php?3977-General-Reports&p=2279823&viewfull=1#post2279823 Cincinnati Ohio\n",
      "http://www.USASexGuide.info/forum/showthread.php?4074-General-Reports&p=2284321&viewfull=1#post2284321 Lexington & I-75 Kentucky\n",
      "http://www.USASexGuide.info/forum/showthread.php?3988-Streetwalker-Reports&p=2262770&viewfull=1#post2262770 Columbus Ohio\n",
      "http://www.USASexGuide.info/forum/showthread.php?3666-Massage-Parlor-Reports&p=2276207&viewfull=1#post2276207 Orlando/Central Florida Florida\n",
      "http://www.USASexGuide.info/forum/showthread.php?3977-General-Reports&p=2279514&viewfull=1#post2279514 Cincinnati Ohio\n",
      "http://www.USASexGuide.info/forum/showthread.php?7357-Backpage-Advertiser-Reviews&p=2264735&viewfull=1#post2264735 Jacksonville Florida\n",
      "http://www.USASexGuide.info/forum/showthread.php?4175-Streetwalker-Reports&p=2262732&viewfull=1#post2262732 Tucson Arizona\n",
      "http://www.USASexGuide.info/forum/showthread.php?3987-BackPage-Advertiser-Reviews&p=2271245&viewfull=1#post2271245 Columbus Ohio\n",
      "http://www.USASexGuide.info/forum/showthread.php?10855-Rants-and-Raves&p=2303526&viewfull=1#post2303526 Albany/Schenectady/Troy New York\n",
      "http://www.USASexGuide.info/forum/showthread.php?8629-Massage-Parlor-Reports&p=2274670&viewfull=1#post2274670 Raleigh North Carolina\n",
      "http://www.USASexGuide.info/forum/showthread.php?3981-Massage-Parlor-Reports&p=2261086&viewfull=1#post2261086 Cincinnati Ohio\n",
      "http://www.USASexGuide.info/forum/showthread.php?5226-Streetwalker-Reports&p=2279086&viewfull=1#post2279086 Chicago Illinois\n",
      "http://www.USASexGuide.info/forum/showthread.php?7755-Backpage-Advertiser-Reviews&p=2262376&viewfull=1#post2262376 NW Indiana Indiana\n",
      "http://www.USASexGuide.info/forum/showthread.php?11930-Strip-Club-Reports&p=2275487&viewfull=1#post2275487 Tri-Cities Tennessee\n",
      "http://www.USASexGuide.info/forum/showthread.php?7308-Massage-Parlor-Reports&p=2258151&viewfull=1#post2258151 Brevard County Florida\n",
      "http://www.USASexGuide.info/forum/showthread.php?7970-BackPage-Advertiser-Reviews&p=2269607&viewfull=1#post2269607 Baltimore Maryland\n",
      "http://www.USASexGuide.info/forum/showthread.php?3977-General-Reports&p=2279514&viewfull=1#post2279514 Cincinnati Ohio\n",
      "http://www.USASexGuide.info/forum/showthread.php?7357-Backpage-Advertiser-Reviews&p=2259212&viewfull=1#post2259212 Jacksonville Florida\n",
      "http://www.USASexGuide.info/forum/showthread.php?3406-General-Reports&p=2260676&viewfull=1#post2260676 Phoenix Arizona\n",
      "http://www.USASexGuide.info/forum/showthread.php?3914-Streetwalker-Reports&p=2283217&viewfull=1#post2283217 Miami Florida\n",
      "http://www.USASexGuide.info/forum/showthread.php?3977-General-Reports&p=2279823&viewfull=1#post2279823 Cincinnati Ohio\n",
      "http://www.USASexGuide.info/forum/showthread.php?3406-General-Reports&p=2260676&viewfull=1#post2260676 Phoenix Arizona\n",
      "http://www.USASexGuide.info/forum/showthread.php?8942-BackPage-Advertiser-Reviews&p=2262133&viewfull=1#post2262133 Greenville South Carolina\n",
      "http://www.USASexGuide.info/forum/showthread.php?7970-BackPage-Advertiser-Reviews&p=2271729&viewfull=1#post2271729 Baltimore Maryland\n",
      "http://www.USASexGuide.info/forum/showthread.php?7890-BackPage-Advertiser-Reviews&p=2307837&viewfull=1#post2307837 Louisville Kentucky\n",
      "http://www.USASexGuide.info/forum/showthread.php?7597-BackPage-Advertiser-Reviews&p=2267886&viewfull=1#post2267886 Chicago Illinois\n",
      "http://www.USASexGuide.info/forum/showthread.php?10689-Backpage-Advertiser-Reviews&p=2263473&viewfull=1#post2263473 Atlanta Georgia\n",
      "http://www.USASexGuide.info/forum/showthread.php?8688-BackPage-Advertiser-Reviews&p=2276108&viewfull=1#post2276108 Akron Ohio\n",
      "http://www.USASexGuide.info/forum/showthread.php?7357-Backpage-Advertiser-Reviews&p=2277336&viewfull=1#post2277336 Jacksonville Florida\n",
      "http://www.USASexGuide.info/forum/showthread.php?3914-Streetwalker-Reports&p=2271898&viewfull=1#post2271898 Miami Florida\n",
      "http://www.USASexGuide.info/forum/showthread.php?4858-Streetwalker-Reports&p=2281881&viewfull=1#post2281881 Newark/Elizabeth New Jersey\n",
      "http://www.USASexGuide.info/forum/showthread.php?7597-BackPage-Advertiser-Reviews&p=2268370&viewfull=1#post2268370 Chicago Illinois\n",
      "http://www.USASexGuide.info/forum/showthread.php?8942-BackPage-Advertiser-Reviews&p=2262133&viewfull=1#post2262133 Greenville South Carolina\n",
      "http://www.USASexGuide.info/forum/showthread.php?3977-General-Reports&p=2279564&viewfull=1#post2279564 Cincinnati Ohio\n",
      "http://www.USASexGuide.info/forum/showthread.php?8148-BackPage-Advertiser-Reviews&p=2312101&viewfull=1#post2312101 Detroit Michigan\n",
      "http://www.USASexGuide.info/forum/showthread.php?7357-Backpage-Advertiser-Reviews&p=2258852&viewfull=1#post2258852 Jacksonville Florida\n",
      "http://www.USASexGuide.info/forum/showthread.php?8038-News-and-Media-Reports&p=2269515&viewfull=1#post2269515 Boston Massachusetts\n"
     ]
    },
    {
     "ename": "KeyboardInterrupt",
     "evalue": "",
     "output_type": "error",
     "traceback": [
      "\u001b[0;31m---------------------------------------------------------------------------\u001b[0m",
      "\u001b[0;31mKeyboardInterrupt\u001b[0m                         Traceback (most recent call last)",
      "\u001b[0;32m<ipython-input-357-3a2b9fa6f5a4>\u001b[0m in \u001b[0;36m<module>\u001b[0;34m()\u001b[0m\n\u001b[1;32m      2\u001b[0m \u001b[0;32mfor\u001b[0m \u001b[0midx\u001b[0m\u001b[0;34m,\u001b[0m \u001b[0murl\u001b[0m \u001b[0;32min\u001b[0m \u001b[0menumerate\u001b[0m\u001b[0;34m(\u001b[0m\u001b[0mnew_df\u001b[0m\u001b[0;34m.\u001b[0m\u001b[0murl\u001b[0m\u001b[0;34m)\u001b[0m\u001b[0;34m:\u001b[0m\u001b[0;34m\u001b[0m\u001b[0m\n\u001b[1;32m      3\u001b[0m     \u001b[0;32mif\u001b[0m \u001b[0;34m'usasexguide'\u001b[0m \u001b[0;32min\u001b[0m \u001b[0murl\u001b[0m\u001b[0;34m.\u001b[0m\u001b[0mlower\u001b[0m\u001b[0;34m(\u001b[0m\u001b[0;34m)\u001b[0m\u001b[0;34m:\u001b[0m\u001b[0;34m\u001b[0m\u001b[0m\n\u001b[0;32m----> 4\u001b[0;31m         \u001b[0mcity\u001b[0m\u001b[0;34m,\u001b[0m \u001b[0mstate\u001b[0m \u001b[0;34m=\u001b[0m \u001b[0mparseCityState\u001b[0m\u001b[0;34m(\u001b[0m\u001b[0murl\u001b[0m\u001b[0;34m)\u001b[0m\u001b[0;34m\u001b[0m\u001b[0m\n\u001b[0m\u001b[1;32m      5\u001b[0m         \u001b[0mcityAndStateDataFrame\u001b[0m\u001b[0;34m.\u001b[0m\u001b[0mappend\u001b[0m\u001b[0;34m(\u001b[0m\u001b[0;34m(\u001b[0m\u001b[0midx\u001b[0m\u001b[0;34m,\u001b[0m \u001b[0murl\u001b[0m\u001b[0;34m,\u001b[0m \u001b[0mcity\u001b[0m\u001b[0;34m,\u001b[0m \u001b[0mstate\u001b[0m\u001b[0;34m)\u001b[0m\u001b[0;34m)\u001b[0m\u001b[0;34m\u001b[0m\u001b[0m\n\u001b[1;32m      6\u001b[0m         \u001b[0;32mprint\u001b[0m \u001b[0murl\u001b[0m\u001b[0;34m,\u001b[0m \u001b[0mcity\u001b[0m\u001b[0;34m,\u001b[0m \u001b[0mstate\u001b[0m\u001b[0;34m\u001b[0m\u001b[0m\n",
      "\u001b[0;32m<ipython-input-355-a569ee656a76>\u001b[0m in \u001b[0;36mparseCityState\u001b[0;34m(url)\u001b[0m\n\u001b[1;32m      3\u001b[0m \u001b[0;34m\u001b[0m\u001b[0m\n\u001b[1;32m      4\u001b[0m     \u001b[0mresponse\u001b[0m \u001b[0;34m=\u001b[0m \u001b[0murllib2\u001b[0m\u001b[0;34m.\u001b[0m\u001b[0murlopen\u001b[0m\u001b[0;34m(\u001b[0m\u001b[0murl\u001b[0m\u001b[0;34m)\u001b[0m\u001b[0;34m\u001b[0m\u001b[0m\n\u001b[0;32m----> 5\u001b[0;31m     \u001b[0mhtml\u001b[0m \u001b[0;34m=\u001b[0m \u001b[0mresponse\u001b[0m\u001b[0;34m.\u001b[0m\u001b[0mread\u001b[0m\u001b[0;34m(\u001b[0m\u001b[0;34m)\u001b[0m\u001b[0;34m\u001b[0m\u001b[0m\n\u001b[0m\u001b[1;32m      6\u001b[0m \u001b[0;34m\u001b[0m\u001b[0m\n\u001b[1;32m      7\u001b[0m     \u001b[0msoup\u001b[0m \u001b[0;34m=\u001b[0m \u001b[0mBeautifulSoup\u001b[0m\u001b[0;34m(\u001b[0m\u001b[0mhtml\u001b[0m\u001b[0;34m,\u001b[0m \u001b[0;34m'html.parser'\u001b[0m\u001b[0;34m)\u001b[0m\u001b[0;34m\u001b[0m\u001b[0m\n",
      "\u001b[0;32m/usr/local/Cellar/python/2.7.10_2/Frameworks/Python.framework/Versions/2.7/lib/python2.7/socket.pyc\u001b[0m in \u001b[0;36mread\u001b[0;34m(self, size)\u001b[0m\n\u001b[1;32m    353\u001b[0m             \u001b[0;32mwhile\u001b[0m \u001b[0mTrue\u001b[0m\u001b[0;34m:\u001b[0m\u001b[0;34m\u001b[0m\u001b[0m\n\u001b[1;32m    354\u001b[0m                 \u001b[0;32mtry\u001b[0m\u001b[0;34m:\u001b[0m\u001b[0;34m\u001b[0m\u001b[0m\n\u001b[0;32m--> 355\u001b[0;31m                     \u001b[0mdata\u001b[0m \u001b[0;34m=\u001b[0m \u001b[0mself\u001b[0m\u001b[0;34m.\u001b[0m\u001b[0m_sock\u001b[0m\u001b[0;34m.\u001b[0m\u001b[0mrecv\u001b[0m\u001b[0;34m(\u001b[0m\u001b[0mrbufsize\u001b[0m\u001b[0;34m)\u001b[0m\u001b[0;34m\u001b[0m\u001b[0m\n\u001b[0m\u001b[1;32m    356\u001b[0m                 \u001b[0;32mexcept\u001b[0m \u001b[0merror\u001b[0m\u001b[0;34m,\u001b[0m \u001b[0me\u001b[0m\u001b[0;34m:\u001b[0m\u001b[0;34m\u001b[0m\u001b[0m\n\u001b[1;32m    357\u001b[0m                     \u001b[0;32mif\u001b[0m \u001b[0me\u001b[0m\u001b[0;34m.\u001b[0m\u001b[0margs\u001b[0m\u001b[0;34m[\u001b[0m\u001b[0;36m0\u001b[0m\u001b[0;34m]\u001b[0m \u001b[0;34m==\u001b[0m \u001b[0mEINTR\u001b[0m\u001b[0;34m:\u001b[0m\u001b[0;34m\u001b[0m\u001b[0m\n",
      "\u001b[0;32m/usr/local/Cellar/python/2.7.10_2/Frameworks/Python.framework/Versions/2.7/lib/python2.7/httplib.pyc\u001b[0m in \u001b[0;36mread\u001b[0;34m(self, amt)\u001b[0m\n\u001b[1;32m    610\u001b[0m         \u001b[0;31m# connection, and the user is reading more bytes than will be provided\u001b[0m\u001b[0;34m\u001b[0m\u001b[0;34m\u001b[0m\u001b[0m\n\u001b[1;32m    611\u001b[0m         \u001b[0;31m# (for example, reading in 1k chunks)\u001b[0m\u001b[0;34m\u001b[0m\u001b[0;34m\u001b[0m\u001b[0m\n\u001b[0;32m--> 612\u001b[0;31m         \u001b[0ms\u001b[0m \u001b[0;34m=\u001b[0m \u001b[0mself\u001b[0m\u001b[0;34m.\u001b[0m\u001b[0mfp\u001b[0m\u001b[0;34m.\u001b[0m\u001b[0mread\u001b[0m\u001b[0;34m(\u001b[0m\u001b[0mamt\u001b[0m\u001b[0;34m)\u001b[0m\u001b[0;34m\u001b[0m\u001b[0m\n\u001b[0m\u001b[1;32m    613\u001b[0m         \u001b[0;32mif\u001b[0m \u001b[0;32mnot\u001b[0m \u001b[0ms\u001b[0m \u001b[0;32mand\u001b[0m \u001b[0mamt\u001b[0m\u001b[0;34m:\u001b[0m\u001b[0;34m\u001b[0m\u001b[0m\n\u001b[1;32m    614\u001b[0m             \u001b[0;31m# Ideally, we would raise IncompleteRead if the content-length\u001b[0m\u001b[0;34m\u001b[0m\u001b[0;34m\u001b[0m\u001b[0m\n",
      "\u001b[0;32m/usr/local/Cellar/python/2.7.10_2/Frameworks/Python.framework/Versions/2.7/lib/python2.7/socket.pyc\u001b[0m in \u001b[0;36mread\u001b[0;34m(self, size)\u001b[0m\n\u001b[1;32m    382\u001b[0m                 \u001b[0;31m# fragmentation issues on many platforms.\u001b[0m\u001b[0;34m\u001b[0m\u001b[0;34m\u001b[0m\u001b[0m\n\u001b[1;32m    383\u001b[0m                 \u001b[0;32mtry\u001b[0m\u001b[0;34m:\u001b[0m\u001b[0;34m\u001b[0m\u001b[0m\n\u001b[0;32m--> 384\u001b[0;31m                     \u001b[0mdata\u001b[0m \u001b[0;34m=\u001b[0m \u001b[0mself\u001b[0m\u001b[0;34m.\u001b[0m\u001b[0m_sock\u001b[0m\u001b[0;34m.\u001b[0m\u001b[0mrecv\u001b[0m\u001b[0;34m(\u001b[0m\u001b[0mleft\u001b[0m\u001b[0;34m)\u001b[0m\u001b[0;34m\u001b[0m\u001b[0m\n\u001b[0m\u001b[1;32m    385\u001b[0m                 \u001b[0;32mexcept\u001b[0m \u001b[0merror\u001b[0m\u001b[0;34m,\u001b[0m \u001b[0me\u001b[0m\u001b[0;34m:\u001b[0m\u001b[0;34m\u001b[0m\u001b[0m\n\u001b[1;32m    386\u001b[0m                     \u001b[0;32mif\u001b[0m \u001b[0me\u001b[0m\u001b[0;34m.\u001b[0m\u001b[0margs\u001b[0m\u001b[0;34m[\u001b[0m\u001b[0;36m0\u001b[0m\u001b[0;34m]\u001b[0m \u001b[0;34m==\u001b[0m \u001b[0mEINTR\u001b[0m\u001b[0;34m:\u001b[0m\u001b[0;34m\u001b[0m\u001b[0m\n",
      "\u001b[0;31mKeyboardInterrupt\u001b[0m: "
     ]
    }
   ],
   "source": [
    "cityAndStateDataFrame = []\n",
    "for idx, url in enumerate(new_df.url):\n",
    "    if 'usasexguide' in url.lower():\n",
    "        city, state = parseCityState(url)\n",
    "        cityAndStateDataFrame.append((idx, url, city, state))\n",
    "        print url, city, state"
   ]
  },
  {
   "cell_type": "code",
   "execution_count": 361,
   "metadata": {
    "collapsed": false
   },
   "outputs": [
    {
     "data": {
      "text/plain": [
       "(1,\n",
       " 'http://www.USASexGuide.info/forum/showthread.php?7890-BackPage-Advertiser-Reviews&p=2401713&viewfull=1#post2401713',\n",
       " u'Louisville',\n",
       " u'Kentucky')"
      ]
     },
     "execution_count": 361,
     "metadata": {},
     "output_type": "execute_result"
    }
   ],
   "source": [
    "cityAndStateDataFrame[1]"
   ]
  },
  {
   "cell_type": "code",
   "execution_count": 362,
   "metadata": {
    "collapsed": false
   },
   "outputs": [],
   "source": [
    "new_df_with_city_and_state = new_df\n",
    "new_df_with_city_and_state['city'] = '0'\n",
    "new_df_with_city_and_state['state'] = '0'"
   ]
  },
  {
   "cell_type": "code",
   "execution_count": 376,
   "metadata": {
    "collapsed": false
   },
   "outputs": [
    {
     "name": "stderr",
     "output_type": "stream",
     "text": [
      "/usr/local/lib/python2.7/site-packages/IPython/kernel/__main__.py:4: SettingWithCopyWarning: \n",
      "A value is trying to be set on a copy of a slice from a DataFrame\n",
      "\n",
      "See the the caveats in the documentation: http://pandas.pydata.org/pandas-docs/stable/indexing.html#indexing-view-versus-copy\n",
      "/usr/local/lib/python2.7/site-packages/IPython/kernel/__main__.py:5: SettingWithCopyWarning: \n",
      "A value is trying to be set on a copy of a slice from a DataFrame\n",
      "\n",
      "See the the caveats in the documentation: http://pandas.pydata.org/pandas-docs/stable/indexing.html#indexing-view-versus-copy\n"
     ]
    }
   ],
   "source": [
    "for key in cityAndStateDataFrame:\n",
    "    (rowNumber, url, city, state) = key[0], key[1], key[2], key[3]\n",
    "\n",
    "    new_df_with_city_and_state.iloc[rowNumber]['city'] = city\n",
    "    new_df_with_city_and_state.iloc[rowNumber]['state'] = state"
   ]
  },
  {
   "cell_type": "code",
   "execution_count": 378,
   "metadata": {
    "collapsed": true
   },
   "outputs": [],
   "source": [
    "with open('/Users/amitshavit/Desktop/cityAndState.csv', 'w') as otp:\n",
    "    \n",
    "    otp.write('rowNumber,city,state,url\\n')\n",
    "    \n",
    "    for key in cityAndStateDataFrame:\n",
    "        (rowNumber, url, city, state) = key[0], key[1], key[2], key[3]\n",
    "        line = '%d,%s,%s,%s\\n' % (rowNumber, city, state, url)\n",
    "        otp.write(line)"
   ]
  },
  {
   "cell_type": "code",
   "execution_count": 380,
   "metadata": {
    "collapsed": false
   },
   "outputs": [],
   "source": [
    "new_df['city'] = '0'\n",
    "new_df['state'] = '0'"
   ]
  },
  {
   "cell_type": "code",
   "execution_count": 382,
   "metadata": {
    "collapsed": false
   },
   "outputs": [
    {
     "name": "stderr",
     "output_type": "stream",
     "text": [
      "/usr/local/lib/python2.7/site-packages/IPython/kernel/__main__.py:4: SettingWithCopyWarning: \n",
      "A value is trying to be set on a copy of a slice from a DataFrame\n",
      "\n",
      "See the the caveats in the documentation: http://pandas.pydata.org/pandas-docs/stable/indexing.html#indexing-view-versus-copy\n",
      "/usr/local/lib/python2.7/site-packages/IPython/kernel/__main__.py:5: SettingWithCopyWarning: \n",
      "A value is trying to be set on a copy of a slice from a DataFrame\n",
      "\n",
      "See the the caveats in the documentation: http://pandas.pydata.org/pandas-docs/stable/indexing.html#indexing-view-versus-copy\n"
     ]
    }
   ],
   "source": [
    "for key in cityAndStateDataFrame:\n",
    "    (rowNumber, url, city, state) = key[0], key[1], key[2], key[3]\n",
    "    \n",
    "    new_df.iloc[rowNumber]['city'] = city\n",
    "    new_df.iloc[rowNumber]['state'] = state"
   ]
  },
  {
   "cell_type": "code",
   "execution_count": 383,
   "metadata": {
    "collapsed": false
   },
   "outputs": [
    {
     "data": {
      "text/html": [
       "<div>\n",
       "<table border=\"1\" class=\"dataframe\">\n",
       "  <thead>\n",
       "    <tr style=\"text-align: right;\">\n",
       "      <th></th>\n",
       "      <th>guid</th>\n",
       "      <th>creation_date</th>\n",
       "      <th>type</th>\n",
       "      <th>source</th>\n",
       "      <th>url</th>\n",
       "      <th>title</th>\n",
       "      <th>text</th>\n",
       "      <th>author</th>\n",
       "      <th>author_age</th>\n",
       "      <th>city_state</th>\n",
       "      <th>lat</th>\n",
       "      <th>lng</th>\n",
       "      <th>phone_number</th>\n",
       "      <th>post_id</th>\n",
       "      <th>timezone_label</th>\n",
       "      <th>timezone_offset</th>\n",
       "      <th>city</th>\n",
       "      <th>state</th>\n",
       "    </tr>\n",
       "  </thead>\n",
       "  <tbody>\n",
       "    <tr>\n",
       "      <th>0</th>\n",
       "      <td>7C8ECFE2-FB22-4881-A6E3-D67F9C8B8E7F</td>\n",
       "      <td>2015-03-04 12:11:00</td>\n",
       "      <td>forum</td>\n",
       "      <td>usasexguide</td>\n",
       "      <td>http://www.USASexGuide.info/forum/showthread.p...</td>\n",
       "      <td>NaN</td>\n",
       "      <td>Originally Posted by  DieselMike [View Origina...</td>\n",
       "      <td>Trifix1</td>\n",
       "      <td>-1</td>\n",
       "      <td>NaN</td>\n",
       "      <td>\\N</td>\n",
       "      <td>NaN</td>\n",
       "      <td>\\N</td>\n",
       "      <td>NaN</td>\n",
       "      <td>NaN</td>\n",
       "      <td>\\N</td>\n",
       "      <td>0</td>\n",
       "      <td>0</td>\n",
       "    </tr>\n",
       "    <tr>\n",
       "      <th>1</th>\n",
       "      <td>E28544D6-4BD7-4FA3-A8D6-D3BE75A6AB3A</td>\n",
       "      <td>2015-03-16 19:19:00</td>\n",
       "      <td>forum</td>\n",
       "      <td>usasexguide</td>\n",
       "      <td>http://www.USASexGuide.info/forum/showthread.p...</td>\n",
       "      <td>NaN</td>\n",
       "      <td>Originally Posted by  Urbanwonder42 [View Orig...</td>\n",
       "      <td>Rlthree</td>\n",
       "      <td>-1</td>\n",
       "      <td>NaN</td>\n",
       "      <td>\\N</td>\n",
       "      <td>NaN</td>\n",
       "      <td>\\N</td>\n",
       "      <td>NaN</td>\n",
       "      <td>NaN</td>\n",
       "      <td>\\N</td>\n",
       "      <td>0</td>\n",
       "      <td>0</td>\n",
       "    </tr>\n",
       "    <tr>\n",
       "      <th>2</th>\n",
       "      <td>D90A3A64-2AA1-4EF7-9696-F469B7A828B3</td>\n",
       "      <td>2015-03-26 22:06:00</td>\n",
       "      <td>forum</td>\n",
       "      <td>usasexguide</td>\n",
       "      <td>http://www.USASexGuide.info/forum/showthread.p...</td>\n",
       "      <td>NaN</td>\n",
       "      <td>Here's what's going on in CBus, Ohio.  My PM m...</td>\n",
       "      <td>MrChill</td>\n",
       "      <td>-1</td>\n",
       "      <td>NaN</td>\n",
       "      <td>\\N</td>\n",
       "      <td>NaN</td>\n",
       "      <td>\\N</td>\n",
       "      <td>NaN</td>\n",
       "      <td>NaN</td>\n",
       "      <td>\\N</td>\n",
       "      <td>0</td>\n",
       "      <td>0</td>\n",
       "    </tr>\n",
       "    <tr>\n",
       "      <th>3</th>\n",
       "      <td>A7E6A11A-CE95-4516-A1AD-747D016C6ED1</td>\n",
       "      <td>2015-03-05 17:18:00</td>\n",
       "      <td>forum</td>\n",
       "      <td>usasexguide</td>\n",
       "      <td>http://www.USASexGuide.info/forum/showthread.p...</td>\n",
       "      <td>NaN</td>\n",
       "      <td>Originally Posted by  Lugnutz [View Original P...</td>\n",
       "      <td>VelvetRayne</td>\n",
       "      <td>-1</td>\n",
       "      <td>NaN</td>\n",
       "      <td>\\N</td>\n",
       "      <td>NaN</td>\n",
       "      <td>\\N</td>\n",
       "      <td>NaN</td>\n",
       "      <td>NaN</td>\n",
       "      <td>\\N</td>\n",
       "      <td>0</td>\n",
       "      <td>0</td>\n",
       "    </tr>\n",
       "    <tr>\n",
       "      <th>4</th>\n",
       "      <td>0207E025-5B51-4886-95E7-78B11D3E15AC</td>\n",
       "      <td>2015-03-10 10:56:00</td>\n",
       "      <td>forum</td>\n",
       "      <td>usasexguide</td>\n",
       "      <td>http://www.USASexGuide.info/forum/showthread.p...</td>\n",
       "      <td>NaN</td>\n",
       "      <td>I have seen her post in the past but it has be...</td>\n",
       "      <td>Bythelake</td>\n",
       "      <td>-1</td>\n",
       "      <td>NaN</td>\n",
       "      <td>\\N</td>\n",
       "      <td>NaN</td>\n",
       "      <td>\\N</td>\n",
       "      <td>NaN</td>\n",
       "      <td>NaN</td>\n",
       "      <td>\\N</td>\n",
       "      <td>0</td>\n",
       "      <td>0</td>\n",
       "    </tr>\n",
       "  </tbody>\n",
       "</table>\n",
       "</div>"
      ],
      "text/plain": [
       "                                   guid        creation_date   type  \\\n",
       "0  7C8ECFE2-FB22-4881-A6E3-D67F9C8B8E7F  2015-03-04 12:11:00  forum   \n",
       "1  E28544D6-4BD7-4FA3-A8D6-D3BE75A6AB3A  2015-03-16 19:19:00  forum   \n",
       "2  D90A3A64-2AA1-4EF7-9696-F469B7A828B3  2015-03-26 22:06:00  forum   \n",
       "3  A7E6A11A-CE95-4516-A1AD-747D016C6ED1  2015-03-05 17:18:00  forum   \n",
       "4  0207E025-5B51-4886-95E7-78B11D3E15AC  2015-03-10 10:56:00  forum   \n",
       "\n",
       "        source                                                url  title  \\\n",
       "0  usasexguide  http://www.USASexGuide.info/forum/showthread.p...    NaN   \n",
       "1  usasexguide  http://www.USASexGuide.info/forum/showthread.p...    NaN   \n",
       "2  usasexguide  http://www.USASexGuide.info/forum/showthread.p...    NaN   \n",
       "3  usasexguide  http://www.USASexGuide.info/forum/showthread.p...    NaN   \n",
       "4  usasexguide  http://www.USASexGuide.info/forum/showthread.p...    NaN   \n",
       "\n",
       "                                                text       author  author_age  \\\n",
       "0  Originally Posted by  DieselMike [View Origina...      Trifix1          -1   \n",
       "1  Originally Posted by  Urbanwonder42 [View Orig...      Rlthree          -1   \n",
       "2  Here's what's going on in CBus, Ohio.  My PM m...      MrChill          -1   \n",
       "3  Originally Posted by  Lugnutz [View Original P...  VelvetRayne          -1   \n",
       "4  I have seen her post in the past but it has be...    Bythelake          -1   \n",
       "\n",
       "   city_state lat  lng phone_number  post_id  timezone_label timezone_offset  \\\n",
       "0         NaN  \\N  NaN           \\N      NaN             NaN              \\N   \n",
       "1         NaN  \\N  NaN           \\N      NaN             NaN              \\N   \n",
       "2         NaN  \\N  NaN           \\N      NaN             NaN              \\N   \n",
       "3         NaN  \\N  NaN           \\N      NaN             NaN              \\N   \n",
       "4         NaN  \\N  NaN           \\N      NaN             NaN              \\N   \n",
       "\n",
       "  city state  \n",
       "0    0     0  \n",
       "1    0     0  \n",
       "2    0     0  \n",
       "3    0     0  \n",
       "4    0     0  "
      ]
     },
     "execution_count": 383,
     "metadata": {},
     "output_type": "execute_result"
    }
   ],
   "source": [
    "new_df.head()"
   ]
  },
  {
   "cell_type": "code",
   "execution_count": 334,
   "metadata": {
    "collapsed": false
   },
   "outputs": [
    {
     "name": "stdout",
     "output_type": "stream",
     "text": [
      "(0, 18)\n"
     ]
    }
   ],
   "source": [
    "print new_df[new_df.city != 0].shape"
   ]
  },
  {
   "cell_type": "code",
   "execution_count": null,
   "metadata": {
    "collapsed": true
   },
   "outputs": [],
   "source": [
    "# Random\n",
    "    \n",
    "for idx, link in enumerate(df.url):\n",
    "\n",
    "#     link =  'http://usasexguide.info/forum/showthread.php?7357-BackPage-Advertiser-Reviews'\n",
    "    response = urllib2.urlopen(link)\n",
    "    html = response.read()\n",
    "\n",
    "    soup = BeautifulSoup(html, 'html.parser')\n",
    "    \n",
    "    printState = False\n",
    "    printCity = False\n",
    "    for div in soup.findAll('div', { \"class\" : \"breadcrumb\" }):\n",
    "        for li in div.findAll('li'):\n",
    "\n",
    "            if printState == True:\n",
    "\n",
    "                print li.get_text()\n",
    "\n",
    "                printCity = True\n",
    "                printState = False\n",
    "                continue\n",
    "\n",
    "\n",
    "            if printCity == True:\n",
    "                print li.get_text()\n",
    "                break\n",
    "\n",
    "            if 'States' in li.get_text():\n",
    "                printState = True"
   ]
  },
  {
   "cell_type": "markdown",
   "metadata": {},
   "source": [
    "## Grab city from backpage link"
   ]
  },
  {
   "cell_type": "code",
   "execution_count": 239,
   "metadata": {
    "collapsed": false
   },
   "outputs": [],
   "source": [
    "df['cityAssociatedWithPost'] = 0"
   ]
  },
  {
   "cell_type": "code",
   "execution_count": 236,
   "metadata": {
    "collapsed": false
   },
   "outputs": [],
   "source": [
    "citiesInPostsWithBackpageLink = []\n",
    "\n",
    "for item in postsWithBackpage:\n",
    "    text = postsWithBackpage[item][1]\n",
    "    idx = postsWithBackpage[item][0]\n",
    "    \n",
    "    for word in text.strip().split():\n",
    "        if 'backpage' in word:\n",
    "            city = word.split('.')[0]\n",
    "            citiesInPostsWithBackpageLink.append(city)"
   ]
  },
  {
   "cell_type": "code",
   "execution_count": 127,
   "metadata": {
    "collapsed": false
   },
   "outputs": [],
   "source": [
    "# df[df['containsAlertWords'] == 1].text"
   ]
  },
  {
   "cell_type": "code",
   "execution_count": 37,
   "metadata": {
    "collapsed": false
   },
   "outputs": [
    {
     "name": "stderr",
     "output_type": "stream",
     "text": [
      "/usr/local/lib/python2.7/site-packages/IPython/kernel/__main__.py:7: UnicodeWarning: Unicode equal comparison failed to convert both arguments to Unicode - interpreting them as being unequal\n"
     ]
    }
   ],
   "source": [
    "from collections import Counter\n",
    "\n",
    "words = Counter()\n",
    "\n",
    "for text in df.text.values:\n",
    "    for word in text.strip().lower().split():\n",
    "        if word not in all_stopwords:\n",
    "            words[word] += 1"
   ]
  },
  {
   "cell_type": "code",
   "execution_count": 43,
   "metadata": {
    "collapsed": false,
    "scrolled": true
   },
   "outputs": [
    {
     "data": {
      "text/plain": [
       "[('\\\\n', 398203),\n",
       " ('http:', 176754),\n",
       " ('forum', 161243),\n",
       " ('posted', 156642),\n",
       " ('-1', 145271),\n",
       " ('originally', 101386),\n",
       " ('original', 94242),\n",
       " ('post]', 93169),\n",
       " ('[view', 93167),\n",
       " ('usasexguide', 88880),\n",
       " ('like', 68924),\n",
       " ('one', 65065),\n",
       " ('would', 63659),\n",
       " ('post', 62057),\n",
       " ('get', 58009),\n",
       " ('good', 50638),\n",
       " ('report', 50086),\n",
       " ('time', 49983),\n",
       " ('see', 48047),\n",
       " ('know', 46090),\n",
       " ('images', 42253),\n",
       " (\"don't\", 42187),\n",
       " (\"i'm\", 41420),\n",
       " ('got', 40460),\n",
       " ('femaleescorts', 40199),\n",
       " ('back', 37723),\n",
       " ('theeroticreview', 35895),\n",
       " ('girl', 33527),\n",
       " ('anyone', 32536),\n",
       " (\"she's\", 29120),\n",
       " ('go', 28958),\n",
       " ('nice', 28673),\n",
       " ('think', 28218),\n",
       " ('really', 28151),\n",
       " ('quote', 28147),\n",
       " ('said', 27982),\n",
       " ('seen', 26985),\n",
       " ('misc', 26950),\n",
       " ('quote_icon.png', 26936),\n",
       " ('little', 26831),\n",
       " ('never', 26324),\n",
       " ('her.', 26280),\n",
       " ('great', 26130),\n",
       " ('saw', 25457),\n",
       " ('going', 24920),\n",
       " ('want', 24623),\n",
       " (\"i've\", 24533),\n",
       " ('could', 24174),\n",
       " (\"it's\", 23726),\n",
       " ('even', 23140),\n",
       " ('girls', 22299),\n",
       " ('new', 21953),\n",
       " (\"didn't\", 21599),\n",
       " ('looking', 21233),\n",
       " ('eccie', 21097),\n",
       " ('much', 21026),\n",
       " ('last', 20981),\n",
       " ('first', 20186),\n",
       " ('still', 20150),\n",
       " ('went', 20040),\n",
       " ('also', 20015),\n",
       " ('say', 19905),\n",
       " ('it.', 19799),\n",
       " ('make', 19710),\n",
       " ('way', 19069),\n",
       " ('sure', 18672),\n",
       " ('me.', 18595),\n",
       " ('info_policies', 18512),\n",
       " ('give', 18319),\n",
       " ('.', 18192),\n",
       " ('take', 17879),\n",
       " ('always', 17855),\n",
       " ('around', 17446),\n",
       " ('another', 17315),\n",
       " ('looks', 17265),\n",
       " ('well', 17137),\n",
       " ('find', 17013),\n",
       " ('many', 16608),\n",
       " ('pm', 16428),\n",
       " ('guys', 16260),\n",
       " ('pretty', 15857),\n",
       " ('told', 15759),\n",
       " ('jacksonville.backpage.com', 15525),\n",
       " ('time.', 15211),\n",
       " ('right', 15097),\n",
       " ('someone', 15052),\n",
       " ('let', 14918),\n",
       " ('look', 14903),\n",
       " ('massage', 14703),\n",
       " ('two', 14586),\n",
       " ('may', 14547),\n",
       " ('pics', 14532),\n",
       " ('2', 14464),\n",
       " ('better', 14309),\n",
       " ('end', 14286),\n",
       " (\"that's\", 14190),\n",
       " ('maybe', 14151),\n",
       " ('ad', 14104),\n",
       " ('since', 14068),\n",
       " ('info', 13999),\n",
       " ('need', 13948),\n",
       " ('asked', 13825),\n",
       " ('long', 13700),\n",
       " ('reviews', 13654),\n",
       " ('place', 13612),\n",
       " ('lot', 13338),\n",
       " ('real', 13233),\n",
       " ('couple', 13123),\n",
       " ('something', 13061),\n",
       " ('bad', 12968),\n",
       " ('best', 12918),\n",
       " ('thanks', 12897),\n",
       " ('getting', 12895),\n",
       " ('try', 12832),\n",
       " (\"can't\", 12663),\n",
       " ('number', 12659),\n",
       " ('call', 12633),\n",
       " ('come', 12556),\n",
       " ('provider', 12401),\n",
       " ('phone', 12283),\n",
       " ('times', 12275),\n",
       " ('next', 12170),\n",
       " ('quote:', 12017),\n",
       " ('made', 11906),\n",
       " ('wanted', 11843),\n",
       " ('body', 11794),\n",
       " ('www.usasexguide.info', 11755),\n",
       " ('room', 11748),\n",
       " ('might', 11664),\n",
       " ('message', 11491),\n",
       " ('us', 11416),\n",
       " ('people', 11245),\n",
       " ('tried', 11122),\n",
       " ('tell', 11078),\n",
       " ('love', 10903),\n",
       " ('please', 10860),\n",
       " ('definitely', 10841),\n",
       " ('ever', 10714),\n",
       " ('probably', 10663),\n",
       " (\"doesn't\", 10614),\n",
       " ('money', 10604),\n",
       " ('thought', 10572),\n",
       " ('keep', 10546),\n",
       " ('took', 10528),\n",
       " ('stay', 10415),\n",
       " ('work', 10397),\n",
       " ('bit', 10378),\n",
       " ('gave', 10348),\n",
       " ('experience', 10335),\n",
       " ('&', 10254),\n",
       " ('anything', 10232),\n",
       " ('name', 10220),\n",
       " ('use', 10158),\n",
       " ('put', 10154),\n",
       " ('every', 10125),\n",
       " ('big', 10124),\n",
       " ('bp', 10066),\n",
       " ('started', 10034),\n",
       " ('seems', 10022),\n",
       " ('worth', 10012),\n",
       " ('years', 9975),\n",
       " ('nothing', 9950),\n",
       " ('thing', 9933),\n",
       " ('found', 9905),\n",
       " ('feel', 9813),\n",
       " ('used', 9763),\n",
       " ('ask', 9759),\n",
       " ('there.', 9734),\n",
       " ('called', 9721),\n",
       " ('old', 9714),\n",
       " ('day', 9690),\n",
       " ('providers', 9607),\n",
       " ('trying', 9450),\n",
       " (\"i'd\", 9441),\n",
       " ('lol.', 9383),\n",
       " ('review', 9261),\n",
       " ('up.', 9123),\n",
       " ('actually', 9106),\n",
       " ('minutes', 9069),\n",
       " ('things', 9023),\n",
       " ('hot', 9003),\n",
       " ('dream', 8933),\n",
       " ('out.', 8866),\n",
       " ('10', 8861),\n",
       " ('her,', 8841),\n",
       " (\"you're\", 8783),\n",
       " ('text', 8726),\n",
       " ('smilies', 8717),\n",
       " ('seeing', 8694),\n",
       " (\"i'll\", 8690),\n",
       " ('you.', 8679),\n",
       " ('came', 8564),\n",
       " ('-', 8551),\n",
       " ('hard', 8522),\n",
       " (\"wasn't\", 8520),\n",
       " ('guy', 8483),\n",
       " ('lady', 8325),\n",
       " ('hour', 8311),\n",
       " ('service', 8303),\n",
       " ('met', 8285),\n",
       " ('different', 8242),\n",
       " ('area', 8229),\n",
       " ('set', 8225),\n",
       " ('least', 8217),\n",
       " ('says', 8212),\n",
       " ('fun', 8208),\n",
       " ('read', 8112),\n",
       " ('left', 8054),\n",
       " ('5', 8044),\n",
       " ('guess', 7978),\n",
       " ('ass', 7972),\n",
       " ('3', 7965),\n",
       " ('visit', 7837),\n",
       " ('that.', 7812),\n",
       " ('again.', 7750),\n",
       " ('safe', 7720),\n",
       " ('help', 7680),\n",
       " ('ladies', 7561),\n",
       " ('check', 7550),\n",
       " ('pay', 7520),\n",
       " ('bodyrubs', 7507),\n",
       " ('meet', 7442),\n",
       " ('everything', 7417),\n",
       " ('full', 7365),\n",
       " ('young', 7321),\n",
       " ('bbbj', 7309),\n",
       " ('hope', 7304),\n",
       " ('one.', 7248),\n",
       " ('cdn-w.eccie.net', 7212),\n",
       " ('modern', 7201),\n",
       " ('face', 7133),\n",
       " ('several', 7116),\n",
       " ('happy', 7093),\n",
       " ('1', 7088),\n",
       " ('black', 7073),\n",
       " (\"won't\", 7036),\n",
       " ('decided', 7033),\n",
       " (\"haven't\", 7024),\n",
       " ('kind', 7021),\n",
       " ('believe', 6983),\n",
       " ('enough', 6905),\n",
       " ('away', 6895),\n",
       " ('back.', 6856),\n",
       " ('well.', 6798),\n",
       " ('ago', 6773),\n",
       " ('here.', 6760),\n",
       " ('far', 6712),\n",
       " ('pictures', 6701),\n",
       " ('head', 6667),\n",
       " ('night', 6641),\n",
       " ('working', 6556),\n",
       " ('week', 6548),\n",
       " ('door', 6540),\n",
       " ('looked', 6493),\n",
       " ('done', 6476),\n",
       " ('must', 6425),\n",
       " ('days', 6375),\n",
       " ('without', 6362),\n",
       " ('friend', 6307),\n",
       " ('else', 6263),\n",
       " ('remember', 6178),\n",
       " ('quite', 6166),\n",
       " ('talking', 6150),\n",
       " ('2014', 6119),\n",
       " ('gets', 6099),\n",
       " ('them.', 6059),\n",
       " ('business', 6023),\n",
       " ('women', 6013),\n",
       " ('saying', 6007),\n",
       " ('thanks.', 5986),\n",
       " ('half', 5958),\n",
       " ('me,', 5950),\n",
       " ('able', 5928),\n",
       " ('girl.', 5905),\n",
       " ('sweet', 5899),\n",
       " ('near', 5892),\n",
       " ('top', 5886),\n",
       " ('year', 5882),\n",
       " ('contact', 5877),\n",
       " ('posting', 5856),\n",
       " ('clean', 5845),\n",
       " ('louisville.backpage.com', 5827),\n",
       " ('past', 5827),\n",
       " ('4', 5821),\n",
       " ('now.', 5818),\n",
       " ('posts', 5815),\n",
       " ('thank', 5789),\n",
       " ('ads', 5771),\n",
       " ('though', 5757),\n",
       " ('easy', 5755),\n",
       " ('usually', 5754),\n",
       " ('talk', 5733),\n",
       " ('heard', 5715),\n",
       " ('cute', 5695),\n",
       " ('thinking', 5639),\n",
       " ('site', 5623),\n",
       " ('finally', 5611),\n",
       " ('too.', 5572),\n",
       " ('either', 5571),\n",
       " ('almost', 5557),\n",
       " ('play', 5537),\n",
       " ('it,', 5520),\n",
       " ('others', 5517),\n",
       " ('ok', 5512),\n",
       " ('repeat', 5491),\n",
       " ('man', 5489),\n",
       " ('show', 5487),\n",
       " ('point', 5480),\n",
       " ('today', 5465),\n",
       " (\"wouldn't\", 5440),\n",
       " ('hit', 5415),\n",
       " ('30', 5398),\n",
       " ('hey', 5390),\n",
       " ('woman', 5386),\n",
       " ('second', 5382),\n",
       " ('car', 5368),\n",
       " ('seem', 5366),\n",
       " ('start', 5365),\n",
       " ('ago.', 5360),\n",
       " ('enjoy', 5334),\n",
       " ('side', 5312),\n",
       " ('makes', 5276),\n",
       " ('part', 5252),\n",
       " ('short', 5199),\n",
       " ('already', 5190),\n",
       " ('care', 5181),\n",
       " ('decent', 5178),\n",
       " ('sex', 5139),\n",
       " ('small', 5132),\n",
       " ('seemed', 5126),\n",
       " (\"couldn't\", 5119),\n",
       " ('repeat.', 5104),\n",
       " ('high', 5091),\n",
       " (\"isn't\", 5089),\n",
       " ('gfe', 5058),\n",
       " ('months', 5027),\n",
       " ('time,', 4990),\n",
       " ('sexy', 4969),\n",
       " ('less', 4942),\n",
       " ('person', 4932),\n",
       " ('leave', 4930),\n",
       " ('session', 4921),\n",
       " ('incall', 4901),\n",
       " ('close', 4899),\n",
       " ('free', 4895),\n",
       " ('asking', 4887),\n",
       " ('her?', 4873),\n",
       " ('stop', 4870),\n",
       " ('on.', 4850),\n",
       " ('location', 4838),\n",
       " ('good.', 4828),\n",
       " ('--', 4827),\n",
       " ('anybody', 4806),\n",
       " ('goes', 4800),\n",
       " ('later', 4788),\n",
       " ('weeks', 4784),\n",
       " ('photos', 4765),\n",
       " ('mean', 4751),\n",
       " ('using', 4739),\n",
       " ('comes', 4726),\n",
       " ('tucson.backpage.com', 4725),\n",
       " ('open', 4721),\n",
       " ('wants', 4689),\n",
       " ('search', 4680),\n",
       " ('sorry', 4675),\n",
       " ('house', 4663),\n",
       " ('everyone', 4641),\n",
       " ('hotel', 4640),\n",
       " ('yes', 4637),\n",
       " ('safe.', 4635),\n",
       " ('price', 4627),\n",
       " ('making', 4594),\n",
       " ('white', 4561),\n",
       " ('home', 4536),\n",
       " ('available', 4515),\n",
       " ('fake', 4482),\n",
       " ('20', 4459),\n",
       " ('6', 4458),\n",
       " ('wondering', 4430),\n",
       " ('knows', 4421),\n",
       " ('www.imagecoast.com', 4405),\n",
       " ('all.', 4389),\n",
       " ('agree', 4372),\n",
       " ('so,', 4367),\n",
       " ('board', 4359),\n",
       " ('huntsville.backpage.com', 4358),\n",
       " ('older', 4321),\n",
       " ('tight', 4311),\n",
       " ('type', 4286),\n",
       " ('area.', 4283),\n",
       " ('town', 4281),\n",
       " ('fuck', 4264),\n",
       " ('date', 4260),\n",
       " ('quick', 4245),\n",
       " ('coming', 4243),\n",
       " ('taking', 4240),\n",
       " ('hobby', 4233),\n",
       " ('knew', 4214),\n",
       " ('recently', 4205),\n",
       " ('felt', 4204)]"
      ]
     },
     "execution_count": 43,
     "metadata": {},
     "output_type": "execute_result"
    }
   ],
   "source": [
    "words.most_common(400)"
   ]
  },
  {
   "cell_type": "markdown",
   "metadata": {},
   "source": [
    "## For each author look at their contribution"
   ]
  },
  {
   "cell_type": "code",
   "execution_count": 53,
   "metadata": {
    "collapsed": false
   },
   "outputs": [],
   "source": [
    "all_authors = Counter()\n",
    "\n",
    "for author in df.author.values:\n",
    "    current_author = author.lower().replace(' ', '_')\n",
    "    all_authors[current_author] += 1"
   ]
  },
  {
   "cell_type": "code",
   "execution_count": 55,
   "metadata": {
    "collapsed": false
   },
   "outputs": [
    {
     "data": {
      "text/plain": [
       "[('yssup_rider', 962),\n",
       " ('inicky46', 496),\n",
       " ('iiffofrdb', 488),\n",
       " ('jd_barleycorn', 482),\n",
       " ('nitetimer', 445),\n",
       " ('gagambler', 362),\n",
       " ('wtf', 361),\n",
       " ('cuteoldguy', 360),\n",
       " ('i_b_hankering', 357),\n",
       " ('skarphedin', 326),\n",
       " ('gimmethat', 308),\n",
       " ('lexuslover', 292),\n",
       " ('whirlaway', 289),\n",
       " ('jaxtantricman', 289),\n",
       " ('mrfisher', 287),\n",
       " (\"i'va_biggen\", 283),\n",
       " ('hollywoodguy', 270),\n",
       " ('dallasrain', 266),\n",
       " ('bertlong', 265),\n",
       " ('bamatide', 264)]"
      ]
     },
     "execution_count": 55,
     "metadata": {},
     "output_type": "execute_result"
    }
   ],
   "source": [
    "all_authors.pop('view_profile')\n",
    "all_authors.most_common(20)"
   ]
  },
  {
   "cell_type": "code",
   "execution_count": 93,
   "metadata": {
    "collapsed": false
   },
   "outputs": [
    {
     "data": {
      "text/plain": [
       "[962, 496, 488, 482, 445, 362, 361, 360, 357, 326]"
      ]
     },
     "execution_count": 93,
     "metadata": {},
     "output_type": "execute_result"
    }
   ],
   "source": [
    "post_count_by_author = []\n",
    "for key in all_authors:\n",
    "    post_count_by_author.append(all_authors[key])\n",
    "\n",
    "post_count_by_author = list(reversed(np.sort(post_count_by_author)))\n",
    "post_count_by_author[:10]"
   ]
  },
  {
   "cell_type": "code",
   "execution_count": 98,
   "metadata": {
    "collapsed": false
   },
   "outputs": [
    {
     "name": "stdout",
     "output_type": "stream",
     "text": [
      "6968\n"
     ]
    }
   ],
   "source": [
    "ninety_percent = 0.9*(sum(post_count_by_author))\n",
    "mysum = 0.0\n",
    "for idx, val in enumerate(post_count_by_author):\n",
    "    mysum += val\n",
    "    if mysum > ninety_percent:\n",
    "        print idx\n",
    "        break"
   ]
  },
  {
   "cell_type": "code",
   "execution_count": 115,
   "metadata": {
    "collapsed": false
   },
   "outputs": [
    {
     "data": {
      "image/png": "[encoded data removed]",
      "text/plain": [
       "<matplotlib.figure.Figure at 0x11eef2ad0>"
      ]
     },
     "metadata": {},
     "output_type": "display_data"
    }
   ],
   "source": [
    "fig = plt.figure(num=None, figsize=(15, 6), dpi=80, facecolor='w', edgecolor='k')\n",
    "graph = fig.add_subplot(111)\n",
    "\n",
    "graph.loglog(post_count_by_author)\n",
    "\n",
    "graph.set_xlabel('Author ID',fontweight='bold',fontsize='18')\n",
    "graph.set_ylabel('Post Count',fontweight='bold',fontsize='18')\n",
    "\n",
    "graph.xaxis.label.set_color('black')\n",
    "graph.yaxis.label.set_color('black')\n",
    "graph.tick_params(axis='x',colors='black')\n",
    "graph.tick_params(axis='y',colors='black')\n",
    "\n",
    "for ax in [graph]:\n",
    "    # tick label font size\n",
    "    ax.tick_params(axis='x',colors='black')\n",
    "    ax.tick_params(axis='y',colors='black')\n",
    "\n",
    "    for tick in ax.xaxis.get_major_ticks():\n",
    "        tick.label.set_fontsize(18)\n",
    "\n",
    "    for tick in ax.yaxis.get_major_ticks():\n",
    "        tick.label.set_fontsize(18)\n",
    "    \n",
    "    # add black border\n",
    "    plt.setp(ax.spines.values(), color='black')\n",
    "\n",
    "plt.show()"
   ]
  },
  {
   "cell_type": "markdown",
   "metadata": {},
   "source": [
    "## Simple Naive Bayes"
   ]
  },
  {
   "cell_type": "code",
   "execution_count": 133,
   "metadata": {
    "collapsed": false
   },
   "outputs": [
    {
     "data": {
      "text/html": [
       "<div>\n",
       "<table border=\"1\" class=\"dataframe\">\n",
       "  <thead>\n",
       "    <tr style=\"text-align: right;\">\n",
       "      <th></th>\n",
       "      <th>Unnamed: 0</th>\n",
       "      <th>guid</th>\n",
       "      <th>creation_date</th>\n",
       "      <th>type</th>\n",
       "      <th>source</th>\n",
       "      <th>url</th>\n",
       "      <th>title</th>\n",
       "      <th>text</th>\n",
       "      <th>author</th>\n",
       "      <th>author_age</th>\n",
       "      <th>city_state</th>\n",
       "      <th>lat</th>\n",
       "      <th>lng</th>\n",
       "      <th>phone_number</th>\n",
       "      <th>post_id</th>\n",
       "      <th>timezone_label</th>\n",
       "      <th>timezone_offset</th>\n",
       "      <th>label</th>\n",
       "    </tr>\n",
       "  </thead>\n",
       "  <tbody>\n",
       "    <tr>\n",
       "      <th>0</th>\n",
       "      <td>0</td>\n",
       "      <td>4CE5A1AD-6FDC-41E1-B0E2-B58B789D7833</td>\n",
       "      <td>2014-12-17 23:35:00</td>\n",
       "      <td>forum</td>\n",
       "      <td>usasexguide</td>\n",
       "      <td>http://www.USASexGuide.info/forum/showthread.p...</td>\n",
       "      <td>NaN</td>\n",
       "      <td>Felicia Fancy Fantasy ads are here too. http: ...</td>\n",
       "      <td>AlfReady</td>\n",
       "      <td>-1</td>\n",
       "      <td>NaN</td>\n",
       "      <td>\\N</td>\n",
       "      <td>NaN</td>\n",
       "      <td>\\N</td>\n",
       "      <td>NaN</td>\n",
       "      <td>NaN</td>\n",
       "      <td>\\N</td>\n",
       "      <td>0</td>\n",
       "    </tr>\n",
       "    <tr>\n",
       "      <th>1</th>\n",
       "      <td>1</td>\n",
       "      <td>771557EF-7608-4E13-82BA-19683C1C29E9</td>\n",
       "      <td>2014-12-04 09:36:00</td>\n",
       "      <td>forum</td>\n",
       "      <td>usasexguide</td>\n",
       "      <td>http://www.USASexGuide.info/forum/showthread.p...</td>\n",
       "      <td>NaN</td>\n",
       "      <td>images misc quote_icon.png  Originally Posted ...</td>\n",
       "      <td>JaxDog</td>\n",
       "      <td>-1</td>\n",
       "      <td>NaN</td>\n",
       "      <td>\\N</td>\n",
       "      <td>NaN</td>\n",
       "      <td>2287717022</td>\n",
       "      <td>NaN</td>\n",
       "      <td>NaN</td>\n",
       "      <td>\\N</td>\n",
       "      <td>0</td>\n",
       "    </tr>\n",
       "    <tr>\n",
       "      <th>2</th>\n",
       "      <td>2</td>\n",
       "      <td>91A10AB8-65EE-41E8-B951-14D01E435DF4</td>\n",
       "      <td>2014-12-05 14:59:00</td>\n",
       "      <td>forum</td>\n",
       "      <td>usasexguide</td>\n",
       "      <td>http://www.USASexGuide.info/forum/showthread.p...</td>\n",
       "      <td>NaN</td>\n",
       "      <td>images misc quote_icon.png  Originally Posted ...</td>\n",
       "      <td>JaxDog</td>\n",
       "      <td>-1</td>\n",
       "      <td>NaN</td>\n",
       "      <td>\\N</td>\n",
       "      <td>NaN</td>\n",
       "      <td>2285209022</td>\n",
       "      <td>NaN</td>\n",
       "      <td>NaN</td>\n",
       "      <td>\\N</td>\n",
       "      <td>0</td>\n",
       "    </tr>\n",
       "    <tr>\n",
       "      <th>3</th>\n",
       "      <td>3</td>\n",
       "      <td>5B9F1A53-1FD7-4D11-A6A7-9CC6D1B8A26F</td>\n",
       "      <td>2014-12-15 23:40:00</td>\n",
       "      <td>forum</td>\n",
       "      <td>usasexguide</td>\n",
       "      <td>http://www.USASexGuide.info/forum/showthread.p...</td>\n",
       "      <td>NaN</td>\n",
       "      <td>Originally Posted by  TallBear [View Original ...</td>\n",
       "      <td>SurfLax</td>\n",
       "      <td>-1</td>\n",
       "      <td>NaN</td>\n",
       "      <td>\\N</td>\n",
       "      <td>NaN</td>\n",
       "      <td>\\N</td>\n",
       "      <td>NaN</td>\n",
       "      <td>NaN</td>\n",
       "      <td>\\N</td>\n",
       "      <td>0</td>\n",
       "    </tr>\n",
       "    <tr>\n",
       "      <th>4</th>\n",
       "      <td>4</td>\n",
       "      <td>BCF62F70-4825-4289-9346-5A99AD70AF2C</td>\n",
       "      <td>2014-12-11 00:16:00</td>\n",
       "      <td>forum</td>\n",
       "      <td>usasexguide</td>\n",
       "      <td>http://www.USASexGuide.info/forum/showthread.p...</td>\n",
       "      <td>NaN</td>\n",
       "      <td>images misc quote_icon.png  Originally Posted ...</td>\n",
       "      <td>Darth Vader1</td>\n",
       "      <td>-1</td>\n",
       "      <td>NaN</td>\n",
       "      <td>\\N</td>\n",
       "      <td>NaN</td>\n",
       "      <td>2293109022</td>\n",
       "      <td>NaN</td>\n",
       "      <td>NaN</td>\n",
       "      <td>\\N</td>\n",
       "      <td>1</td>\n",
       "    </tr>\n",
       "  </tbody>\n",
       "</table>\n",
       "</div>"
      ],
      "text/plain": [
       "   Unnamed: 0                                  guid        creation_date  \\\n",
       "0           0  4CE5A1AD-6FDC-41E1-B0E2-B58B789D7833  2014-12-17 23:35:00   \n",
       "1           1  771557EF-7608-4E13-82BA-19683C1C29E9  2014-12-04 09:36:00   \n",
       "2           2  91A10AB8-65EE-41E8-B951-14D01E435DF4  2014-12-05 14:59:00   \n",
       "3           3  5B9F1A53-1FD7-4D11-A6A7-9CC6D1B8A26F  2014-12-15 23:40:00   \n",
       "4           4  BCF62F70-4825-4289-9346-5A99AD70AF2C  2014-12-11 00:16:00   \n",
       "\n",
       "    type       source                                                url  \\\n",
       "0  forum  usasexguide  http://www.USASexGuide.info/forum/showthread.p...   \n",
       "1  forum  usasexguide  http://www.USASexGuide.info/forum/showthread.p...   \n",
       "2  forum  usasexguide  http://www.USASexGuide.info/forum/showthread.p...   \n",
       "3  forum  usasexguide  http://www.USASexGuide.info/forum/showthread.p...   \n",
       "4  forum  usasexguide  http://www.USASexGuide.info/forum/showthread.p...   \n",
       "\n",
       "   title                                               text        author  \\\n",
       "0    NaN  Felicia Fancy Fantasy ads are here too. http: ...      AlfReady   \n",
       "1    NaN  images misc quote_icon.png  Originally Posted ...        JaxDog   \n",
       "2    NaN  images misc quote_icon.png  Originally Posted ...        JaxDog   \n",
       "3    NaN  Originally Posted by  TallBear [View Original ...       SurfLax   \n",
       "4    NaN  images misc quote_icon.png  Originally Posted ...  Darth Vader1   \n",
       "\n",
       "   author_age  city_state lat  lng phone_number  post_id  timezone_label  \\\n",
       "0          -1         NaN  \\N  NaN           \\N      NaN             NaN   \n",
       "1          -1         NaN  \\N  NaN   2287717022      NaN             NaN   \n",
       "2          -1         NaN  \\N  NaN   2285209022      NaN             NaN   \n",
       "3          -1         NaN  \\N  NaN           \\N      NaN             NaN   \n",
       "4          -1         NaN  \\N  NaN   2293109022      NaN             NaN   \n",
       "\n",
       "  timezone_offset  label  \n",
       "0              \\N      0  \n",
       "1              \\N      0  \n",
       "2              \\N      0  \n",
       "3              \\N      0  \n",
       "4              \\N      1  "
      ]
     },
     "execution_count": 133,
     "metadata": {},
     "output_type": "execute_result"
    }
   ],
   "source": [
    "X = pd.read_csv('/Users/amitshavit/Desktop/labeled.csv')\n",
    "X.head()"
   ]
  },
  {
   "cell_type": "code",
   "execution_count": 141,
   "metadata": {
    "collapsed": false
   },
   "outputs": [
    {
     "name": "stdout",
     "output_type": "stream",
     "text": [
      "966\n",
      "37\n",
      "4\n"
     ]
    }
   ],
   "source": [
    "print (X.label == 0).sum()\n",
    "print (X.label == 1).sum()\n",
    "print (X.label == 2).sum()"
   ]
  },
  {
   "cell_type": "code",
   "execution_count": 173,
   "metadata": {
    "collapsed": false
   },
   "outputs": [],
   "source": [
    "all_keywords_pos_instances = []\n",
    "all_keywords_neg_instances = []\n",
    "\n",
    "for idx, row in enumerate(X.text):\n",
    "    textfield = row.strip().lower()\n",
    "    textfield = textfield.decode('utf8')\n",
    "    \n",
    "    for word in textfield.split():\n",
    "        \n",
    "        #stemmed_word = stemmer.stem(word)\n",
    "        stemmed_word = word\n",
    "        \n",
    "        if stemmed_word not in all_stopwords:\n",
    "            \n",
    "            if X.iloc[idx].label == 0:\n",
    "                all_keywords_neg_instances.append(stemmed_word)\n",
    "            else:\n",
    "                all_keywords_pos_instances.append(stemmed_word)"
   ]
  },
  {
   "cell_type": "markdown",
   "metadata": {},
   "source": [
    "## Find all keywords in pos instances that happen more than once"
   ]
  },
  {
   "cell_type": "code",
   "execution_count": 212,
   "metadata": {
    "collapsed": false
   },
   "outputs": [
    {
     "name": "stdout",
     "output_type": "stream",
     "text": [
      "[(u'posted', 26), (u'originally', 25), (u'http:', 25), (u'one', 25), (u'[view', 24), (u'post]', 24), (u'original', 24), (u'know', 22), (u'like', 22), (u'got', 21), (u'see', 19), (u'good', 18), (u\"don't\", 17), (u'would', 15), (u'news', 14), (u'girl', 14), (u'get', 14), (u\"i'm\", 13), (u'never', 12), (u'sure', 12), (u'girls', 11), (u'make', 11), (u'going', 11), (u'pretty', 11), (u'leo', 11), (u'could', 11), (u'time', 10), (u'always', 10), (u\"didn't\", 9), (u'saw', 9), (u\"she's\", 9), (u'anything', 9), (u'let', 9), (u'providers', 9), (u\"i've\", 9), (u'may', 8), (u'still', 8), (u'think', 8), (u'really', 8), (u'find', 8), (u'want', 7), (u'went', 7), (u\"you're\", 7), (u'another', 7), (u'said', 7), (u'uncle', 7), (u'place', 7), (u'little', 7), (u'since', 7), (u'looks', 7), (u'times', 7), (u'well', 7), (u'her.', 6), (u'femaleescorts', 6), (u'best', 6), (u'ago.', 6), (u'12', 6), (u'around', 6), (u'images', 6), (u\"that's\", 6), (u'misc', 6), (u'also', 6), (u'play', 6), (u'detroit.backpage.com', 6), (u'used', 6), (u'quote_icon.png', 6), (u'info', 6), (u'go', 6), (u'try', 6), (u\"it's\", 6), (u'this,', 6), (u'new', 5), (u'told', 5), (u'better', 5), (u'local', 5), (u'seen', 5), (u'regular', 5), (u'birmingham', 5), (u'gave', 5), (u'right', 5), (u'post', 5), (u'check', 5), (u'guy', 5), (u'remember', 5), (u'maybe', 5), (u'looking', 5), (u'senior', 5), (u'come', 5), (u\"couldn't\", 5), (u'without', 5), (u'--', 5), (u'read', 5), (u'it.', 5), (u'someone', 5), (u'found', 5), (u'house', 5), (u'members', 5), (u'least', 5), (u'hotel', 5), (u'probably', 5)]\n"
     ]
    }
   ],
   "source": [
    "counter_pos_keywords = Counter(all_keywords_pos_instances)\n",
    "\n",
    "print counter_pos_keywords.most_common(100)\n",
    "\n",
    "repeat_pos_keywords = []\n",
    "for word in counter_pos_keywords:\n",
    "    if counter_pos_keywords[word] > 1:\n",
    "        repeat_pos_keywords.append(word)"
   ]
  },
  {
   "cell_type": "code",
   "execution_count": null,
   "metadata": {
    "collapsed": true
   },
   "outputs": [],
   "source": []
  },
  {
   "cell_type": "code",
   "execution_count": null,
   "metadata": {
    "collapsed": true
   },
   "outputs": [],
   "source": []
  },
  {
   "cell_type": "code",
   "execution_count": null,
   "metadata": {
    "collapsed": true
   },
   "outputs": [],
   "source": []
  },
  {
   "cell_type": "code",
   "execution_count": null,
   "metadata": {
    "collapsed": true
   },
   "outputs": [],
   "source": []
  },
  {
   "cell_type": "code",
   "execution_count": null,
   "metadata": {
    "collapsed": true
   },
   "outputs": [],
   "source": []
  },
  {
   "cell_type": "code",
   "execution_count": 174,
   "metadata": {
    "collapsed": false
   },
   "outputs": [],
   "source": [
    "unique_pos_keywords = []\n",
    "for word in all_keywords_pos_instances:\n",
    "    if word in all_keywords_neg_instances:\n",
    "        unique_pos_keywords.append(word)"
   ]
  },
  {
   "cell_type": "code",
   "execution_count": 176,
   "metadata": {
    "collapsed": false
   },
   "outputs": [
    {
     "name": "stdout",
     "output_type": "stream",
     "text": [
      "[(u'http:', 899), (u'posted', 596), (u'original', 551), (u'originally', 546), (u'[view', 543), (u'post]', 543), (u'one', 345), (u'like', 325), (u'femaleescorts', 304), (u'would', 288), (u'time', 265), (u'see', 265), (u'get', 247), (u'good', 246), (u'know', 235), (u'images', 199), (u'anyone', 195), (u'misc', 193), (u'quote_icon.png', 193), (u\"i'm\", 184)]\n",
      "[(u'posted', 26), (u'originally', 25), (u'http:', 25), (u'one', 25), (u'[view', 24), (u'post]', 24), (u'original', 24), (u'know', 22), (u'like', 22), (u'got', 21), (u'see', 19), (u'good', 18), (u\"don't\", 17), (u'would', 15), (u'news', 14), (u'girl', 14), (u'get', 14), (u\"i'm\", 13), (u'never', 12), (u'sure', 12)]\n"
     ]
    }
   ],
   "source": [
    "print Counter(all_keywords_neg_instances).most_common(20)\n",
    "print Counter(all_keywords_pos_instances).most_common(20)"
   ]
  },
  {
   "cell_type": "code",
   "execution_count": 190,
   "metadata": {
    "collapsed": false
   },
   "outputs": [],
   "source": [
    "pos_authors = []\n",
    "for idx, row in X.iterrows():\n",
    "    if row.label == 1 or row.label == 2:\n",
    "        pos_authors.append(row.author.lower())"
   ]
  },
  {
   "cell_type": "code",
   "execution_count": 195,
   "metadata": {
    "collapsed": false
   },
   "outputs": [],
   "source": [
    "repeat_pos_authors = []\n",
    "counter_pos_authors = Counter(pos_authors)\n",
    "for author in counter_pos_authors:\n",
    "    if counter_pos_authors[author] > 1:\n",
    "        repeat_pos_authors.append(author)"
   ]
  },
  {
   "cell_type": "code",
   "execution_count": 200,
   "metadata": {
    "collapsed": false
   },
   "outputs": [
    {
     "data": {
      "text/plain": [
       "['marlowe', 'hammer67', 'elmsly', 'pman1971']"
      ]
     },
     "execution_count": 200,
     "metadata": {},
     "output_type": "execute_result"
    }
   ],
   "source": [
    "repeat_pos_authors = [i for i in repeat_pos_authors if i != 'view profile']\n",
    "repeat_pos_authors"
   ]
  },
  {
   "cell_type": "code",
   "execution_count": null,
   "metadata": {
    "collapsed": true
   },
   "outputs": [],
   "source": [
    "# Test whether these authors appear in negative occurences"
   ]
  },
  {
   "cell_type": "code",
   "execution_count": null,
   "metadata": {
    "collapsed": true
   },
   "outputs": [],
   "source": []
  },
  {
   "cell_type": "code",
   "execution_count": 168,
   "metadata": {
    "collapsed": false
   },
   "outputs": [
    {
     "name": "stdout",
     "output_type": "stream",
     "text": [
      "2993 57093 3404\n"
     ]
    }
   ],
   "source": [
    "print len(unique_pos_keywords), len(all_keywords_neg_instances), len(all_keywords_pos_instances)"
   ]
  },
  {
   "cell_type": "code",
   "execution_count": 201,
   "metadata": {
    "collapsed": false
   },
   "outputs": [],
   "source": [
    "# unique_pos_keywords"
   ]
  },
  {
   "cell_type": "code",
   "execution_count": 128,
   "metadata": {
    "collapsed": true
   },
   "outputs": [],
   "source": [
    "from sklearn.cross_validation import train_test_split\n",
    "from sklearn.naive_bayes import GaussianNB\n",
    "\n",
    "# Get the X and y data\n",
    "\n",
    "\n",
    "# Initialize the classifier\n",
    "clf = GaussianNB()\n",
    "\n",
    "# Get train test?\n",
    "X_train, X_test, y_train, y_test = train_test_split(X, y, test_size=0.2, random_state=0)\n",
    "clf.fit(X_train, y_train)\n",
    "\n",
    "# Predict\n",
    "y_pred = clf.predict(X_test)"
   ]
  },
  {
   "cell_type": "markdown",
   "metadata": {},
   "source": [
    "## New stuff"
   ]
  },
  {
   "cell_type": "code",
   "execution_count": null,
   "metadata": {
    "collapsed": false
   },
   "outputs": [],
   "source": []
  },
  {
   "cell_type": "code",
   "execution_count": null,
   "metadata": {
    "collapsed": true
   },
   "outputs": [],
   "source": []
  }
 ],
 "metadata": {
  "kernelspec": {
   "display_name": "Python 2",
   "language": "python",
   "name": "python2"
  },
  "language_info": {
   "codemirror_mode": {
    "name": "ipython",
    "version": 2
   },
   "file_extension": ".py",
   "mimetype": "text/x-python",
   "name": "python",
   "nbconvert_exporter": "python",
   "pygments_lexer": "ipython2",
   "version": "2.7.10"
  }
 },
 "nbformat": 4,
 "nbformat_minor": 0
}

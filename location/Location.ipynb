{
 "cells": [
  {
   "cell_type": "code",
   "execution_count": 2,
   "metadata": {
    "collapsed": true
   },
   "outputs": [],
   "source": [
    "import pandas as pd\n",
    "import re\n",
    "data = pd.read_csv('../local/containsKeyWords_labeled_stacked.csv')"
   ]
  },
  {
   "cell_type": "code",
   "execution_count": 3,
   "metadata": {
    "collapsed": false
   },
   "outputs": [
    {
     "data": {
      "text/plain": [
       "col_0                int64\n",
       "guid                object\n",
       "creation_date       object\n",
       "type                object\n",
       "source              object\n",
       "url                 object\n",
       "title              float64\n",
       "text                object\n",
       "author              object\n",
       "author_age           int64\n",
       "city_state         float64\n",
       "lat                 object\n",
       "lng                float64\n",
       "phone_number        object\n",
       "post_id            float64\n",
       "timezone_label     float64\n",
       "timezone_offset     object\n",
       "label              float64\n",
       "city                object\n",
       "state               object\n",
       "region              object\n",
       "dtype: object"
      ]
     },
     "execution_count": 3,
     "metadata": {},
     "output_type": "execute_result"
    }
   ],
   "source": [
    "data['city'] = \"\"\n",
    "data['state'] = \"\"\n",
    "data['region'] = \"\"\n",
    "data.dtypes"
   ]
  },
  {
   "cell_type": "raw",
   "metadata": {},
   "source": [
    "# Location for The Erotic Reviews\n",
    "\n",
    "```perl\n",
    "if (/theeroticreview.*boardID=105/) {print \"$_    Alabama\\t\\n\"};\n",
    "if (/theeroticreview.*boardID=18/) {print \"$_    Atlanta\\n\"};\n",
    "if (/theeroticreview.*boardID=130/) {print \"$_    Austin\\n\"};\n",
    "if (/theeroticreview.*boardID=9/) {print \"$_    Boston\\n\"};\n",
    "if (/theeroticreview.*boardID=29/) {print \"$_    Carolinas\\n\"};\n",
    "if (/theeroticreview.*boardID=115/) {print \"$_    Central Valley CA\\n\"};\n",
    "if (/theeroticreview.*boardID=10/) {print \"$_    Chicago\\n\"};\n",
    "if (/theeroticreview.*boardID=35/) {print \"$_    Colorado\\n\"};\n",
    "if (/theeroticreview.*boardID=125/) {print \"$_    Dakotas\\n\"};\n",
    "if (/theeroticreview.*boardID=38/) {print \"$_    Dallas\\n\"};\n",
    "if (/theeroticreview.*boardID=16/) {print \"$_    Florida\\n\"};\n",
    "if (/theeroticreview.*boardID=117/) {print \"$_    Gold Coast CA\\n\"};\n",
    "if (/theeroticreview.*boardID=43/) {print \"$_    Houston\\n\"};\n",
    "if (/theeroticreview.*boardID=62/) {print \"$_    Indiana\\n\"};\n",
    "if (/theeroticreview.*boardID=116/) {print \"$_    Inland Empire CA\\n\"};\n",
    "if (/theeroticreview.*boardID=60/) {print \"$_    Kansas\\n\"};\n",
    "if (/theeroticreview.*boardID=123/) {print \"$_    Kentucky\\n\"};\n",
    "if (/theeroticreview.*boardID=3/) {print \"$_    Las Vegas\\n\"};\n",
    "if (/theeroticreview.*boardID=1/) {print \"$_    Los Angeles\\n\"};\n",
    "if (/theeroticreview.*boardID=58/) {print \"$_    Louisiana\\n\"};\n",
    "if (/theeroticreview.*boardID=59/) {print \"$_    Maryland\\n\"};\n",
    "if (/theeroticreview.*boardID=40/) {print \"$_    Michigan\\n\"};\n",
    "if (/theeroticreview.*boardID=21/) {print \"$_    Minnesota\\n\"};\n",
    "if (/theeroticreview.*boardID=57/) {print \"$_    Missouri\\n\"};\n",
    "if (/theeroticreview.*boardID=32/) {print \"$_    Montreal\\n\"};\n",
    "if (/theeroticreview.*boardID=50/) {print \"$_    New England\\n\"};\n",
    "if (/theeroticreview.*boardID=51/) {print \"$_    New Jersey\\n\"};\n",
    "if (/theeroticreview.*boardID=49/) {print \"$_    New Mexico\\n\"};\n",
    "if (/theeroticreview.*boardID=2/) {print \"$_    New York\\n\"};\n",
    "if (/theeroticreview.*boardID=45/) {print \"$_    Ohio\\n\"};\n",
    "if (/theeroticreview.*boardID=48/) {print \"$_    Orange County\\n\"};\n",
    "if (/theeroticreview.*boardID=28/) {print \"$_    Philadelphia\\n\"};\n",
    "if (/theeroticreview.*boardID=5/) {print \"$_    Phoenix\\n\"};\n",
    "if (/theeroticreview.*boardID=121/) {print \"$_    Pittsburgh\\n\"};\n",
    "if (/theeroticreview.*boardID=46/) {print \"$_    Portland\\n\"};\n",
    "if (/theeroticreview.*boardID=7/) {print \"$_    San Diego\\n\"};\n",
    "if (/theeroticreview.*boardID=11/) {print \"$_    San Francisco\\n\"};\n",
    "if (/theeroticreview.*boardID=13/) {print \"$_    Seattle\\n\"};\n",
    "if (/theeroticreview.*boardID=15/) {print \"$_    Tennessee\\n\"};\n",
    "if (/theeroticreview.*boardID=36/) {print \"$_    Tijuana\\n\"};\n",
    "if (/theeroticreview.*boardID=31/) {print \"$_    Toronto\\n\"};\n",
    "if (/theeroticreview.*boardID=30/) {print \"$_    Vancouver\\n\"};\n",
    "if (/theeroticreview.*boardID=134/) {print \"$_    Virginia\\n\"};\n",
    "if (/theeroticreview.*boardID=6/) {print \"$_    Washington DC\\n\"};\n",
    "if (/theeroticreview.*boardID=61/) {print \"$_    Wisconsin\\n\"};\n",
    "if (/theeroticreview.*boardID=65/) {print \"$_    Asia\\n\"};\n",
    "if (/theeroticreview.*boardID=129/) {print \"$_    Europe\\n\"};\n",
    "if (/theeroticreview.*boardID=34/) {print \"$_    Other Cities\\n\"};\n",
    "```"
   ]
  },
  {
   "cell_type": "code",
   "execution_count": 4,
   "metadata": {
    "collapsed": false
   },
   "outputs": [],
   "source": [
    "def get_erotic_review(url):\n",
    "    if \"theeroticreview\" in url:\n",
    "        return True\n",
    "    else:\n",
    "        return False\n",
    "    "
   ]
  },
  {
   "cell_type": "code",
   "execution_count": 23,
   "metadata": {
    "collapsed": false
   },
   "outputs": [],
   "source": [
    "locations = {\"boardID=105\":{\"state\":\"Alabama\"},\n",
    "\"boardID=18\":{\"city\":\"Atlanta\"},\n",
    " \"boardID=130\":{\"city\": \"Austin\"},\n",
    " \"boardID=9\": {\"city\": \"Boston\"},\n",
    " \"boardID=29\": {\"region\": \"Carolinas\"},\n",
    " \"boardID=115\": {\"region\":\"Central Valley CA\"},\n",
    " \"boardID=10\": {\"city\": \"Chicago\"},\n",
    " \"boardID=35\": {\"state\": \"Colorado\"},\n",
    " \"boardID=125\": {\"region\": \"Dakotas\"},\n",
    " \"boardID=38\" : {\"city\": \"Dallas\"},\n",
    " \"boardID=16\" : {\"state\": \"Florida\"},\n",
    " \"boardID=117\": {\"region\":\"Gold Coast CA\"},\n",
    " \"boardID=43\": {\"city\": \"Houston\"},\n",
    " \"boardID=62\": {\"state\":\"Indiana\"},\n",
    " \"boardID=116\": {\"region\":\"Inland Empire CA\"},\n",
    " \"boardID=60\": {\"state\":\"Kansas\"},\n",
    " \"boardID=123\": {\"state\": \"Kentucky\"},\n",
    " \"boardID=3\": {\"city\": \"Las Vegas\"},\n",
    " \"boardID=1\": {\"city\": \"Los Angeles\"},\n",
    " \"boardID=58\": {\"state\": \"Louisiana\"},\n",
    " \"boardID=59\": {\"state\": \"Maryland\"},\n",
    " \"boardID=40\": {\"state\": \"Michigan\"},\n",
    " \"boardID=21\": {\"state\": \"Minnesota\"},\n",
    " \"boardID=57\": {\"state\" : \"Missouri\"},\n",
    " \"boardID=32\": {\"city\": \"Montreal\"},\n",
    " \"boardID=50\": {\"region\": \"New England\"},\n",
    " \"boardID=51\": {\"state\": \"New Jersey\"},\n",
    " \"boardID=49\": {\"state\":\"New Mexico\"},\n",
    " \"boardID=2\" : {\"state\": \"New York\"},\n",
    " \"boardID=45\" : {\"state\":\"Ohio\"},\n",
    " \"boardID=48\" : {\"region\": \"Orange County\"},\n",
    " \"boardID=28\" : {\"city\": \"Philadelphia\"},\n",
    " \"boardID=5\" : {\"city\": \"Phoenix\"},\n",
    " \"boardID=121\" : {\"city\": \"Pittsburgh\"},\n",
    " \"boardID=46\" : {\"city\": \"Portland\"},\n",
    " \"boardID=7\": {\"city\":\"San Diego\"},\n",
    " \"boardID=11\": {\"city\": \"San Francisco\"},\n",
    " \"boardID=13\": {\"city\": \"Seattle\"},\n",
    " \"boardID=15\": {\"state\": \"Tennessee\"},\n",
    " \"boardID=36\": {\"city\": \"Tijuana\"},\n",
    " \"boardID=31\" : {\"city\":\"Toronto\"},\n",
    " \"boardID=30\": {\"city\": \"Vancouver\"},\n",
    " \"boardID=134\": {\"state\": \"Virginia\"},\n",
    " \"boardID=6\": {\"city\": \"Washington DC\"},\n",
    " \"boardID=61\": {\"state\": \"Wisconsin\"},\n",
    " \"boardID=65\": {\"region\": \"Asia\"},\n",
    " \"boardID=129\": {\"region\": \"Europe\"},\n",
    " \"boardID=34\": {\"city\": \"Other Cities\"}\n",
    "}\n",
    "            \n",
    "    "
   ]
  },
  {
   "cell_type": "code",
   "execution_count": 36,
   "metadata": {
    "collapsed": false
   },
   "outputs": [],
   "source": [
    "def check_review(url):\n",
    "    if \"theeroticreview\" in url:\n",
    "        return True\n",
    "    else:\n",
    "        return False\n",
    "    \n",
    "def make_updates(data, location):\n",
    "    pattern = re.compile(\".*(BoardID.\\d{1,3})\")\n",
    "    \n",
    "    for row in data[data['url'].\\\n",
    "                    apply((lambda x : check_review(x)))]:\n",
    "        if pattern.match(row):\n",
    "            board = pattern.match(row).group(1)\n",
    "            print(board)\n",
    "            \n",
    "            if board in location:\n",
    "                if 'city' in location[board]:\n",
    "                    data['city'][data['url']== row] = location[board]['city']\n",
    "                elif 'state' in location[board]:\n",
    "                    data['city'][data['url']== row] = location[board]['state']\n",
    "                elif 'region' in location[board]:\n",
    "                    data['city'][data['url']== row] = location[board]['region']\n",
    "                else:\n",
    "                    pass\n",
    "            else:\n",
    "                pass\n",
    "    return data\n",
    "        "
   ]
  },
  {
   "cell_type": "code",
   "execution_count": 46,
   "metadata": {
    "collapsed": false
   },
   "outputs": [],
   "source": [
    "#for url in data['url'][data['url'].\\\n",
    "#                    apply((lambda x : check_review(x)))]:\n",
    "#    print(url)"
   ]
  },
  {
   "cell_type": "markdown",
   "metadata": {},
   "source": [
    "## Outcome\n",
    "\n",
    "None of the given locations matched the labeled dataset we're using. Try this on a larger dataset."
   ]
  },
  {
   "cell_type": "code",
   "execution_count": null,
   "metadata": {
    "collapsed": true
   },
   "outputs": [],
   "source": []
  }
 ],
 "metadata": {
  "kernelspec": {
   "display_name": "Python 2",
   "language": "python",
   "name": "python2"
  },
  "language_info": {
   "codemirror_mode": {
    "name": "ipython",
    "version": 2
   },
   "file_extension": ".py",
   "mimetype": "text/x-python",
   "name": "python",
   "nbconvert_exporter": "python",
   "pygments_lexer": "ipython2",
   "version": "2.7.10"
  }
 },
 "nbformat": 4,
 "nbformat_minor": 0
}
